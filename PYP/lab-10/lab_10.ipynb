{
 "cells": [
  {
   "cell_type": "markdown",
   "id": "6eed071c-8d95-451d-8856-dcb69f0fec9c",
   "metadata": {},
   "source": [
    "# 1)wap to read file named firstfile.txt"
   ]
  },
  {
   "cell_type": "code",
   "execution_count": 1,
   "id": "314643ea-73a8-43eb-8800-d031f1bfa012",
   "metadata": {},
   "outputs": [
    {
     "name": "stdout",
     "output_type": "stream",
     "text": [
      "hello world\n",
      "good morning\n",
      "I Am Dharmik\n",
      "I am from Kesiya_jodiya\n",
      "#darshan student\n"
     ]
    }
   ],
   "source": [
    "f=open(\"firstfile.txt\",\"r\")\n",
    "print(f.read())\n",
    "f.close()"
   ]
  },
  {
   "cell_type": "markdown",
   "id": "6c5aad21-6532-4970-b046-74a320d62496",
   "metadata": {},
   "source": [
    "# 2)wap to read forst 5 lines from file name named firstfile.txt"
   ]
  },
  {
   "cell_type": "code",
   "execution_count": 2,
   "id": "016ff132-a753-4a47-9b1b-0388995c51dc",
   "metadata": {},
   "outputs": [
    {
     "name": "stdout",
     "output_type": "stream",
     "text": [
      "hello world\n",
      "good morning\n",
      "I Am Dharmik\n",
      "I am from Kesiya_jodiya\n",
      "#darshan student"
     ]
    }
   ],
   "source": [
    "f=open(\"firstfile.txt\",\"r\")\n",
    "for i in range(5):\n",
    "    print(f.readline(),end=\"\")\n",
    "f.close()"
   ]
  },
  {
   "cell_type": "markdown",
   "id": "9ece9541-cadb-4f57-b679-e47c3b904aac",
   "metadata": {},
   "source": [
    "# 3)wap to read only special characters from a file"
   ]
  },
  {
   "cell_type": "code",
   "execution_count": 3,
   "id": "ab825252-78fe-43cf-abea-fdf2fcf020de",
   "metadata": {},
   "outputs": [
    {
     "name": "stdout",
     "output_type": "stream",
     "text": [
      "_\n",
      "#\n"
     ]
    }
   ],
   "source": [
    "f=open(\"firstfile.txt\",\"r\")\n",
    "for i in f.read():\n",
    "    if not(i.isalnum() or i.isspace()):\n",
    "        print(i)\n",
    "f.close()"
   ]
  },
  {
   "cell_type": "markdown",
   "id": "cf79e94b-f22d-4697-9a68-ba1e5b4e8203",
   "metadata": {},
   "source": [
    "# 4)wap to read file line by line and store lines in list"
   ]
  },
  {
   "cell_type": "code",
   "execution_count": 4,
   "id": "776a212c-eadd-4d05-97b3-eeb9bcea3931",
   "metadata": {},
   "outputs": [
    {
     "name": "stdout",
     "output_type": "stream",
     "text": [
      "['hello world\\n', 'good morning\\n', 'I Am Dharmik\\n', 'I am from Kesiya_jodiya\\n', '#darshan student']\n"
     ]
    }
   ],
   "source": [
    "f=open(\"firstfile.txt\",\"r\")\n",
    "f1=f.readlines()\n",
    "print(f1)\n",
    "f.close()"
   ]
  },
  {
   "cell_type": "markdown",
   "id": "39baf082-9789-4f99-aa6b-f88abd45cb9b",
   "metadata": {},
   "source": [
    "# 5)wap to write N lines in a new file newfile.txt"
   ]
  },
  {
   "cell_type": "code",
   "execution_count": 6,
   "id": "83a91cf9-40b0-4974-8794-0bb72b871533",
   "metadata": {},
   "outputs": [
    {
     "name": "stdout",
     "output_type": "stream",
     "text": [
      "Number of N lines 3\n",
      "Enter line dharmik\n",
      "Enter line dharmik 2\n",
      "Enter line dharmik  3\n"
     ]
    }
   ],
   "source": [
    "f=open(\"newfile.txt\",\"w\")\n",
    "n=int(input(\"Number of N lines\"))\n",
    "for i in range(n):\n",
    "    s=input(\"Enter line\")\n",
    "    f.write(s+\"\\n\")\n",
    "f.close()"
   ]
  },
  {
   "cell_type": "markdown",
   "id": "77f34166-581d-4e8d-9f98-1baa3f37ad01",
   "metadata": {},
   "source": [
    "# 6)wap to write 5 student record(Roll_no,Name,Deparment) in the studentdetails.txt"
   ]
  },
  {
   "cell_type": "code",
   "execution_count": null,
   "id": "150797af-8627-4926-9f4f-bc451782211e",
   "metadata": {},
   "outputs": [
    {
     "name": "stdout",
     "output_type": "stream",
     "text": [
      "Roll No: 101\n",
      "Name: asdfgh10\n",
      "Deparment sdfgh\n",
      "Roll No: asdfgh\n",
      "Name: asdfg\n",
      "Deparment \n",
      "Roll No: asdfgn\n",
      "Name: asdfg1b\n",
      "Deparment 0as\n",
      "Roll No: dfv20\n",
      "Name: 2s2d0\n",
      "Deparment sdfg\n",
      "Roll No: 02sdf2\n",
      "Name: 0sdf2\n",
      "Deparment 0\n"
     ]
    }
   ],
   "source": [
    "f=open(\"studentdetails.txt\",\"w\")\n",
    "for i in range(5):\n",
    "        f.write((\"Roll No:\"+input(\"Roll No:\")+\"\\nName:\"+input(\"Name:\")+\"\\nDeparment:\"+input(\"Deparment:\")+\"\\n--------------------\\n\"))\n",
    "f.close()"
   ]
  },
  {
   "cell_type": "markdown",
   "id": "9f5fe61a-6756-4aff-9841-3772b23e408c",
   "metadata": {},
   "source": [
    "# 7)wap to find Longest word from the file named firstfile.txt"
   ]
  },
  {
   "cell_type": "code",
   "execution_count": 15,
   "id": "a0d7d08e-d876-4d52-b4ef-92bec48574d7",
   "metadata": {},
   "outputs": [
    {
     "name": "stdout",
     "output_type": "stream",
     "text": [
      "Largest: Kesiya_jodiya\n"
     ]
    }
   ],
   "source": [
    "f=open(\"firstfile.txt\",\"r\")\n",
    "lst=\" \".join(f.read().split(\"\\n\")).split()\n",
    "lwords=\"\"\n",
    "for i in lst:\n",
    "    if len(lwords)< len(i):\n",
    "        lwords=i\n",
    "print(\"Largest:\",lwords)\n",
    "f.close()"
   ]
  },
  {
   "cell_type": "markdown",
   "id": "4843ba78-2cd9-40f0-88ab-bead00dedb31",
   "metadata": {},
   "source": [
    "# 8)wap to find the size of first.txt"
   ]
  },
  {
   "cell_type": "code",
   "execution_count": 17,
   "id": "b58723f3-163c-40ea-8ff7-f92ce5c894f5",
   "metadata": {},
   "outputs": [
    {
     "name": "stdout",
     "output_type": "stream",
     "text": [
      "78 Bytes\n"
     ]
    }
   ],
   "source": [
    "f=open(\"firstfile.txt\",\"r\")\n",
    "s=f.seek(0,2)\n",
    "print(s,\"Bytes\")\n",
    "f.close()"
   ]
  },
  {
   "cell_type": "markdown",
   "id": "f9db20e6-1804-4722-a3ca-db1303cfb51c",
   "metadata": {},
   "source": [
    "# 9)wap to append the concate of studentdetails.txt file by reading the student record from user "
   ]
  },
  {
   "cell_type": "code",
   "execution_count": 18,
   "id": "249e839c-2449-4d4d-b4af-2ee231a0c6fd",
   "metadata": {},
   "outputs": [
    {
     "name": "stdout",
     "output_type": "stream",
     "text": [
      "Roll No: 101\n",
      "Name: dharmik vaishnani\n",
      "Deparment computer\n"
     ]
    }
   ],
   "source": [
    "f=open(\"studentdetails.txt\",\"a\")\n",
    "for i in range(1):\n",
    "        f.write((\"Roll No:\"+input(\"Roll No:\")+\"\\nName:\"+input(\"Name:\")+\"\\nDeparment:\"+input(\"Deparment\")+\"\\n--------------------\\n\"))\n",
    "f.close()"
   ]
  },
  {
   "cell_type": "markdown",
   "id": "dc0b6819-f509-4b6a-856d-818d70127ef5",
   "metadata": {},
   "source": [
    "# 10)wap to "
   ]
  },
  {
   "cell_type": "code",
   "execution_count": null,
   "id": "5b596f96-ca6f-4877-bad1-302ebcf1d5d3",
   "metadata": {},
   "outputs": [
    {
     "name": "stdout",
     "output_type": "stream",
     "text": [
      "Path: extra.txt\n",
      "1 for yes and 2 for no 1\n"
     ]
    }
   ],
   "source": [
    "import os\n",
    "path=input(\"Path:\")\n",
    "if os.path.exists(path):\n",
    "    confirm=input(\"1 for yes and 2 for no::\")\n",
    "    if confirm==\"1\":\n",
    "        os.remove(path)\n",
    "else:\n",
    "    print(\"Not Exist:\")"
   ]
  }
 ],
 "metadata": {
  "kernelspec": {
   "display_name": "Python 3 (ipykernel)",
   "language": "python",
   "name": "python3"
  },
  "language_info": {
   "codemirror_mode": {
    "name": "ipython",
    "version": 3
   },
   "file_extension": ".py",
   "mimetype": "text/x-python",
   "name": "python",
   "nbconvert_exporter": "python",
   "pygments_lexer": "ipython3",
   "version": "3.13.0"
  }
 },
 "nbformat": 4,
 "nbformat_minor": 5
}

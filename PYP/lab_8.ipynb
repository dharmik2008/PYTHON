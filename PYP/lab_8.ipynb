{
 "cells": [
  {
   "cell_type": "markdown",
   "id": "86e91b53-53f3-453d-b464-37cfd59bdf66",
   "metadata": {},
   "source": [
    "# 1 wap to create a dictionary  for n values and print its size"
   ]
  },
  {
   "cell_type": "code",
   "execution_count": 4,
   "id": "7217b6b9-d521-4516-93a2-1f40a292f745",
   "metadata": {},
   "outputs": [
    {
     "name": "stdout",
     "output_type": "stream",
     "text": [
      "your dictionary is: {'dharmik': '133', 'vaishnani': '1167'}\n",
      "size of dictionary is: 2\n"
     ]
    }
   ],
   "source": [
    "n=int(input(\"enter size here:\"))\n",
    "dic={}\n",
    "for i in range(n):\n",
    "    key=input(\"enter key here:\")\n",
    "    value=input(\"enter value here:\")\n",
    "    dic[key]=value\n",
    "print(\"your dictionary is:\",dic)\n",
    "print(\"size of dictionary is:\",len(dic))"
   ]
  },
  {
   "cell_type": "markdown",
   "id": "a96bdbf0-fe2c-4d59-bb0c-f2f39e0edbf7",
   "metadata": {},
   "source": [
    "# 2 wap to create a dictionary from string"
   ]
  },
  {
   "cell_type": "code",
   "execution_count": 5,
   "id": "5a218fcf-9f65-46e7-8107-e2c4c28bf29c",
   "metadata": {},
   "outputs": [
    {
     "name": "stdout",
     "output_type": "stream",
     "text": [
      "enter string here: hello\n"
     ]
    },
    {
     "name": "stdout",
     "output_type": "stream",
     "text": [
      "{0: 'h', 1: 'e', 2: 'l', 3: 'l', 4: 'o'}\n"
     ]
    }
   ],
   "source": [
    "n=(input(\"enter string here:\"))\n",
    "dic={}\n",
    "for i in range(len(n)):\n",
    "    dic[i]=n[i]\n",
    "print(dic)"
   ]
  },
  {
   "cell_type": "markdown",
   "id": "8c6abf8e-145c-491b-9a9e-c45cefa1e75d",
   "metadata": {},
   "source": [
    "# 3 wap to sort a dictionary by  key in ascending and descending order"
   ]
  },
  {
   "cell_type": "code",
   "execution_count": 7,
   "id": "88f4db33-eaac-4c18-8f66-e72a53b73875",
   "metadata": {},
   "outputs": [
    {
     "name": "stdout",
     "output_type": "stream",
     "text": [
      "enter size here: 2\n",
      "enter key here: 2\n",
      "enter value here: jay\n",
      "enter key here: 1\n",
      "enter value here: darshan\n"
     ]
    },
    {
     "name": "stdout",
     "output_type": "stream",
     "text": [
      "{'1': 'darshan', '2': 'jay'}\n",
      "{'2': 'jay', '1': 'darshan'}\n"
     ]
    }
   ],
   "source": [
    "n=int(input(\"enter size here:\"))\n",
    "dic={}\n",
    "for i in range(n):\n",
    "    key=input(\"enter key here:\")\n",
    "    value=input(\"enter value here:\")\n",
    "    dic[key]=value\n",
    "keys=list(dic.keys())\n",
    "keys.sort()\n",
    "dic_asc={}\n",
    "for i in keys:\n",
    "    dic_asc[i]=dic[i]\n",
    "print(dic_asc)\n",
    "\n",
    "keys.sort(reverse=True)\n",
    "dic_des={}\n",
    "for i in keys:\n",
    "    dic_des[i]=dic[i]\n",
    "print(dic_des)\n",
    "    "
   ]
  },
  {
   "cell_type": "markdown",
   "id": "125f11ee-c35a-487e-b6cd-c79f2c00bc3b",
   "metadata": {},
   "source": [
    "# 4 wap to enter a key and add a key in dictionary if it does not exist"
   ]
  },
  {
   "cell_type": "code",
   "execution_count": 3,
   "id": "b2634c22-df7a-4f7b-a238-0ba218cdd084",
   "metadata": {},
   "outputs": [
    {
     "name": "stdin",
     "output_type": "stream",
     "text": [
      "enter size here: 2\n",
      "key: 1\n",
      "values: d\n",
      "key: 2\n",
      "values: h\n",
      "kay2 3\n",
      "value for k2 v\n"
     ]
    },
    {
     "name": "stdout",
     "output_type": "stream",
     "text": [
      "{'1': 'd', '2': 'h', '3': 'v'}\n"
     ]
    }
   ],
   "source": [
    "d={}\n",
    "n=int(input(\"enter size here:\"))\n",
    "for i in range(n):\n",
    "    key=input(\"key:\")\n",
    "    value=input(\"values:\")\n",
    "    d[key]=value\n",
    "k2=input(\"kay2\")\n",
    "keys=list(d.keys())\n",
    "if(k2 in keys):\n",
    "    print(\"already exists\")\n",
    "else:\n",
    "    d[k2]=input(\"value for k2\")\n",
    "print(d)"
   ]
  },
  {
   "cell_type": "markdown",
   "id": "4f260fb3-02ad-446d-a8be-f8761eec0c4a",
   "metadata": {},
   "source": [
    "# 5 wap to sort a dictionary by value in ascending and descending order"
   ]
  },
  {
   "cell_type": "code",
   "execution_count": 11,
   "id": "cdb9f827-b039-4e29-8cd6-9e01c8dc6123",
   "metadata": {},
   "outputs": [
    {
     "name": "stdin",
     "output_type": "stream",
     "text": [
      "enter size here: 3\n",
      "enter key here: 1\n",
      "enter value here: d2\n",
      "enter key here: 2\n",
      "enter value here: c\n",
      "enter key here: 3\n",
      "enter value here: a\n"
     ]
    },
    {
     "name": "stdout",
     "output_type": "stream",
     "text": [
      "['a', 'c', 'd2']\n",
      "{'3': 'a', '2': 'c', '1': 'd2'}\n"
     ]
    }
   ],
   "source": [
    "n=int(input(\"enter size here:\"))\n",
    "dic={}\n",
    "for i in range(n):\n",
    "    key=input(\"enter key here:\")\n",
    "    value=input(\"enter value here:\")\n",
    "    dic[key]=value\n",
    "values=list(dic.values())\n",
    "values.sort()\n",
    "dic_asc={}\n",
    "for i in values:\n",
    "    for j in dic:\n",
    "        if dic[j]==i:\n",
    "            dic_asc[j]=i\n",
    "print(dic_asc)"
   ]
  },
  {
   "cell_type": "code",
   "execution_count": 14,
   "id": "b21f7f67-38fd-41c8-b621-29d5e704794d",
   "metadata": {},
   "outputs": [
    {
     "name": "stdin",
     "output_type": "stream",
     "text": [
      "enter size here: 3\n",
      "enter key here: 1\n",
      "enter value here: a\n",
      "enter key here: 2\n",
      "enter value here: b\n",
      "enter key here: 3\n",
      "enter value here: c\n"
     ]
    },
    {
     "name": "stdout",
     "output_type": "stream",
     "text": [
      "{'3': 'c', '2': 'b', '1': 'a'}\n"
     ]
    }
   ],
   "source": [
    "# revers\n",
    "n=int(input(\"enter size here:\"))\n",
    "des={}\n",
    "for i in range(n):\n",
    "    key=input(\"enter key here:\")\n",
    "    value=input(\"enter value here:\")\n",
    "    des[key]=value\n",
    "values=list(des.values())\n",
    "values.sort(reverse=True)\n",
    "dic_des={}\n",
    "for i in values:\n",
    "    for j in des:\n",
    "        if des[j]==i:\n",
    "            dic_des[j]=i\n",
    "print(dic_des)"
   ]
  },
  {
   "cell_type": "markdown",
   "id": "06584644",
   "metadata": {},
   "source": [
    "# 6 wap to enter a key and to remove that key from dictionary if it exist"
   ]
  },
  {
   "cell_type": "code",
   "execution_count": 6,
   "id": "5b2008e5-085f-424f-9281-5d8f25ca34a7",
   "metadata": {},
   "outputs": [
    {
     "name": "stdin",
     "output_type": "stream",
     "text": [
      "enter size here: 3\n",
      "key: 1\n",
      "values: 5\n",
      "key: 2\n",
      "values: 3\n",
      "key: 4\n",
      "values: 5\n",
      "kay2 6\n"
     ]
    },
    {
     "name": "stdout",
     "output_type": "stream",
     "text": [
      "not in dictionary\n",
      "{'1': '5', '2': '3', '4': '5'}\n"
     ]
    }
   ],
   "source": [
    "d={}\n",
    "n=int(input(\"enter size here:\"))\n",
    "for i in range(n):\n",
    "    key=input(\"key:\")\n",
    "    value=input(\"values:\")\n",
    "    d[key]=value\n",
    "k2=input(\"kay2\")\n",
    "keys=list(d.keys())\n",
    "if(k2 not in keys):\n",
    "    print(\"not in dictionary\")\n",
    "else:\n",
    "    d.pop(k2)\n",
    "print(d)"
   ]
  },
  {
   "cell_type": "markdown",
   "id": "3d63d6e4-8b27-4c86-9356-a65708ddc7d2",
   "metadata": {},
   "source": [
    "# 7 wap to merge two dic into one dic"
   ]
  },
  {
   "cell_type": "code",
   "execution_count": 20,
   "id": "af56deb3-dddb-47db-886e-fd40ce55710b",
   "metadata": {},
   "outputs": [
    {
     "name": "stdin",
     "output_type": "stream",
     "text": [
      "enter size here: 2\n",
      "key: 1\n",
      "values: a\n",
      "key: 2\n",
      "values: b\n",
      "enter size here: 3\n",
      "key: c\n",
      "values: 4\n",
      "key: d\n",
      "values: 5\n",
      "key: 2\n",
      "values: 2\n"
     ]
    },
    {
     "name": "stdout",
     "output_type": "stream",
     "text": [
      "{'1': 'a', '2': 'b'} {'c': '4', 'd': '5', '2': '2'}\n",
      "{'1': 'a', '2': '2', 'c': '4', 'd': '5'}\n"
     ]
    }
   ],
   "source": [
    "d1={}\n",
    "n1=int(input(\"enter size here:\"))\n",
    "for i in range(n1):\n",
    "    key=input(\"key:\")\n",
    "    value=input(\"values:\")\n",
    "    d1[key]=value\n",
    "d2={}\n",
    "n2=int(input(\"enter size here:\"))\n",
    "for i in range(n2):\n",
    "    key=input(\"key:\")\n",
    "    value=input(\"values:\")\n",
    "    d2[key]=value\n",
    "print(d1,d2)\n",
    "for i in d2:\n",
    "    d1[i]=d2[i]\n",
    "print (d1)"
   ]
  },
  {
   "cell_type": "markdown",
   "id": "4ac7c6f5-931e-489e-9991-249d10efa1ce",
   "metadata": {},
   "source": [
    "# 8. WAP to convert two list into dictionary"
   ]
  },
  {
   "cell_type": "code",
   "execution_count": 2,
   "id": "087b9c8a-56f1-4a15-bd98-39ff2cbae752",
   "metadata": {},
   "outputs": [
    {
     "name": "stdin",
     "output_type": "stream",
     "text": [
      "Enter size  5\n",
      "Enter element  1\n",
      "Enter element  2\n",
      "Enter element  3\n",
      "Enter element  4\n",
      "Enter element  5\n",
      "Enter size  3\n",
      "Enter element  1\n",
      "Enter element  2\n",
      "Enter element  3\n"
     ]
    },
    {
     "name": "stdout",
     "output_type": "stream",
     "text": [
      "{0: '1', 1: '2', 2: '3', 3: '4', 4: '5', 5: '1', 6: '2', 7: '3'}\n"
     ]
    }
   ],
   "source": [
    "n=int(input(\"Enter size \"))\n",
    "l1=[]\n",
    "for i in range(n):\n",
    "    l1.append(input(\"Enter element \"))\n",
    "n2=int(input(\"Enter size \"))\n",
    "l2 = []\n",
    "for i in range(n2):\n",
    "    l2.append(input(\"Enter element \"))\n",
    "l1.extend(l2)\n",
    "d = {}\n",
    "for i in range(len(l1)):\n",
    "    d[i]= l1[i]\n",
    "print(d)"
   ]
  }
 ],
 "metadata": {
  "kernelspec": {
   "display_name": "Python 3 (ipykernel)",
   "language": "python",
   "name": "python3"
  },
  "language_info": {
   "codemirror_mode": {
    "name": "ipython",
    "version": 3
   },
   "file_extension": ".py",
   "mimetype": "text/x-python",
   "name": "python",
   "nbconvert_exporter": "python",
   "pygments_lexer": "ipython3",
   "version": "3.13.0"
  }
 },
 "nbformat": 4,
 "nbformat_minor": 5
}

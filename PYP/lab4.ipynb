{
 "cells": [
  {
   "cell_type": "markdown",
   "id": "4e149839-ac1f-4c9d-a589-b84feeaf5093",
   "metadata": {},
   "source": [
    "# 1)wap to print length of string without using len function"
   ]
  },
  {
   "cell_type": "code",
   "execution_count": 3,
   "id": "b9cc5302-87d0-4feb-b26d-c5c4bb4ca5a2",
   "metadata": {},
   "outputs": [
    {
     "name": "stdin",
     "output_type": "stream",
     "text": [
      "Enter String dharmik\n"
     ]
    },
    {
     "name": "stdout",
     "output_type": "stream",
     "text": [
      "7\n"
     ]
    }
   ],
   "source": [
    "a=input(\"Enter String\")\n",
    "l=0\n",
    "for i in a:\n",
    "    l=l+1\n",
    "print (l)"
   ]
  },
  {
   "cell_type": "markdown",
   "id": "72c6c033-e8c6-4209-acd6-beadce50bebf",
   "metadata": {},
   "source": [
    "# 2)wap to remove ith character from the given string"
   ]
  },
  {
   "cell_type": "code",
   "execution_count": 7,
   "id": "cc448b13-6636-42a4-886d-dfc3e3cb714d",
   "metadata": {},
   "outputs": [
    {
     "name": "stdin",
     "output_type": "stream",
     "text": [
      "Enter String dharmik\n",
      "Enter a index: 3\n"
     ]
    },
    {
     "name": "stdout",
     "output_type": "stream",
     "text": [
      "dhamik\n"
     ]
    }
   ],
   "source": [
    "a=input(\"Enter String\")\n",
    "i=int(input(\"Enter a index:\"))\n",
    "print(a[:i]+a[i+1:])"
   ]
  },
  {
   "cell_type": "markdown",
   "id": "05c01a86-b0d3-4e4b-bcf5-b6f64dfe5837",
   "metadata": {},
   "source": [
    "# 3)wap to count 'R' in string \"DARSHAN UNIVERSITY\""
   ]
  },
  {
   "cell_type": "code",
   "execution_count": 17,
   "id": "7c08b468-1cd5-4041-a9ed-fbda537676af",
   "metadata": {},
   "outputs": [
    {
     "name": "stdout",
     "output_type": "stream",
     "text": [
      "no. of R 2\n"
     ]
    }
   ],
   "source": [
    "a=\"DARSHAN UNIVERSITY\"\n",
    "print(\"no. of R\",a.count(\"R\"))"
   ]
  },
  {
   "cell_type": "markdown",
   "id": "09467a58-1bcf-4785-a867-ca00a9f3975c",
   "metadata": {},
   "source": [
    "# 4)wap to count vowels in a given string"
   ]
  },
  {
   "cell_type": "code",
   "execution_count": 18,
   "id": "c2206283-6891-4ed7-88b2-8b18a846e93f",
   "metadata": {},
   "outputs": [
    {
     "name": "stdin",
     "output_type": "stream",
     "text": [
      "Enter String aeiou AEIOU\n"
     ]
    },
    {
     "name": "stdout",
     "output_type": "stream",
     "text": [
      "10\n"
     ]
    }
   ],
   "source": [
    "a=input(\"Enter String\")\n",
    "count=0\n",
    "for i in a:\n",
    "    if i=='a'or i=='e'or i=='i'or i=='o'or i=='u'or i=='A'or i=='E'or i=='I'or i=='O'or i=='U':\n",
    "        count+=1\n",
    "print(count)"
   ]
  },
  {
   "cell_type": "markdown",
   "id": "49c8e96a-b1b6-487b-b46b-1bb171fc8093",
   "metadata": {},
   "source": [
    "# 5)wap to print even length words in given string"
   ]
  },
  {
   "cell_type": "code",
   "execution_count": 23,
   "id": "caf14569-fff3-4e95-90b2-415f0f83e590",
   "metadata": {},
   "outputs": [
    {
     "name": "stdin",
     "output_type": "stream",
     "text": [
      "Enter String: i am dharmikv\n"
     ]
    },
    {
     "name": "stdout",
     "output_type": "stream",
     "text": [
      "am\n",
      "dharmikv\n"
     ]
    }
   ],
   "source": [
    "a=input(\"Enter String:\")\n",
    "s1=a.split(\" \")\n",
    "for i in s1:\n",
    "    if len(i)%2==0:\n",
    "        print(i)"
   ]
  },
  {
   "cell_type": "markdown",
   "id": "0c656ff6-6100-4ed0-9769-87c7d0808bb4",
   "metadata": {},
   "source": [
    "# 6)wap to chack given string is palindrom or not"
   ]
  },
  {
   "cell_type": "code",
   "execution_count": 27,
   "id": "188d50a8-4260-4c12-9523-72537bce86c0",
   "metadata": {},
   "outputs": [
    {
     "name": "stdin",
     "output_type": "stream",
     "text": [
      "Enter String: ihi\n"
     ]
    },
    {
     "name": "stdout",
     "output_type": "stream",
     "text": [
      "ihi\n",
      "It is a palindrom\n"
     ]
    }
   ],
   "source": [
    "a=input(\"Enter String:\")\n",
    "print(a[::-1])\n",
    "if a==a[::-1]:\n",
    "    print(\"It is a palindrom\")\n",
    "else:\n",
    "    print(\"It is not palindrom\")"
   ]
  },
  {
   "cell_type": "markdown",
   "id": "332f544d-c9cf-4fa2-b120-2128154331a0",
   "metadata": {},
   "source": [
    "# 7)wap to do string slicing from left rotate and right rotate the given string by d elements(Where d<=n)"
   ]
  },
  {
   "cell_type": "code",
   "execution_count": 28,
   "id": "8c57bb15-35bf-4f0c-ad42-698506afe439",
   "metadata": {},
   "outputs": [
    {
     "name": "stdin",
     "output_type": "stream",
     "text": [
      "Enter String: hello\n",
      "Enter time of rotate 1\n"
     ]
    },
    {
     "name": "stdout",
     "output_type": "stream",
     "text": [
      "after left rotate elloh\n",
      "after right rotate ohell\n"
     ]
    }
   ],
   "source": [
    "a=input(\"Enter String:\")\n",
    "i=int(input(\"Enter time of rotate\"))\n",
    "print(\"after left rotate\",(a[i:]+a[:i]))\n",
    "print(\"after right rotate\",a[-i:]+a[:-i])"
   ]
  },
  {
   "cell_type": "markdown",
   "id": "ca64d68f-4cc2-4e17-9c70-84f83ecc30a0",
   "metadata": {},
   "source": [
    "# 8)wap to reverse words in the string"
   ]
  },
  {
   "cell_type": "code",
   "execution_count": 32,
   "id": "a7c25c69-3e18-4051-9a35-2a2aaa0d9d83",
   "metadata": {},
   "outputs": [
    {
     "name": "stdin",
     "output_type": "stream",
     "text": [
      "Enter String: hello i am\n"
     ]
    },
    {
     "name": "stdout",
     "output_type": "stream",
     "text": [
      "am\n",
      "i\n",
      "hello\n"
     ]
    }
   ],
   "source": [
    "a=input(\"Enter String:\")\n",
    "s1=a.split(\" \")\n",
    "for i in s1[::-1]:\n",
    "    print(i)"
   ]
  }
 ],
 "metadata": {
  "kernelspec": {
   "display_name": "Python 3 (ipykernel)",
   "language": "python",
   "name": "python3"
  },
  "language_info": {
   "codemirror_mode": {
    "name": "ipython",
    "version": 3
   },
   "file_extension": ".py",
   "mimetype": "text/x-python",
   "name": "python",
   "nbconvert_exporter": "python",
   "pygments_lexer": "ipython3",
   "version": "3.13.0"
  }
 },
 "nbformat": 4,
 "nbformat_minor": 5
}

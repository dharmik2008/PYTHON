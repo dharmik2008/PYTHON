{
 "cells": [
  {
   "cell_type": "markdown",
   "id": "03fda3ca-ff16-455e-893e-338138b486cc",
   "metadata": {},
   "source": [
    "# 1) wap to calculate simple interest using function"
   ]
  },
  {
   "cell_type": "code",
   "execution_count": 3,
   "id": "f13fdb78-a31d-432d-8487-8755a154d240",
   "metadata": {},
   "outputs": [
    {
     "name": "stdout",
     "output_type": "stream",
     "text": [
      "Capital: 500\n",
      "Interest: 2\n",
      "Time: 5\n",
      "50.0\n"
     ]
    },
    {
     "name": "stdout",
     "output_type": "stream",
     "text": [
      "50.0\n"
     ]
    }
   ],
   "source": [
    "c=int(input(\"Capital:\"))\n",
    "i=int(input(\"Interest:\"))\n",
    "t=int(input(\"Time:\"))\n",
    "def f1(c,i,t):\n",
    "    return (c*t*i)/100\n",
    "print(f1(c,i,t))"
   ]
  },
  {
   "cell_type": "markdown",
   "id": "11148fbe-5dcc-49a5-98f9-b7890f8795f2",
   "metadata": {},
   "source": [
    "# 2)wap that defines a function to add first N numbers"
   ]
  },
  {
   "cell_type": "code",
   "execution_count": 4,
   "id": "e1d0120f-7069-47a6-a389-e60d27d2a946",
   "metadata": {},
   "outputs": [
    {
     "name": "stdout",
     "output_type": "stream",
     "text": [
      "Enter n: 10\n",
      "55\n"
     ]
    },
    {
     "name": "stdout",
     "output_type": "stream",
     "text": [
      "55\n"
     ]
    }
   ],
   "source": [
    "n=int(input(\"Enter n:\"))\n",
    "def f1(n):\n",
    "    sum=0\n",
    "    for i in range(n+1):\n",
    "        sum+=i\n",
    "    return sum\n",
    "print (f1(n))"
   ]
  },
  {
   "cell_type": "markdown",
   "id": "6d5ad2fa-e6d2-4cf0-ab86-16b009635451",
   "metadata": {},
   "source": [
    "# 3)wap to find max of two number"
   ]
  },
  {
   "cell_type": "code",
   "execution_count": 6,
   "id": "72732269-b720-4d32-8773-b60808be4ace",
   "metadata": {},
   "outputs": [
    {
     "name": "stdout",
     "output_type": "stream",
     "text": [
      "Enter n1: 321\n",
      "Enter n2: 123\n",
      "321\n"
     ]
    },
    {
     "name": "stdout",
     "output_type": "stream",
     "text": [
      "321\n"
     ]
    }
   ],
   "source": [
    "n1=int(input(\"Enter n1:\"))\n",
    "n2=int(input(\"Enter n2:\"))\n",
    "def f1(n1,n2):\n",
    "    return n1 if n1>n2 else n2\n",
    "print (f1(n1,n2))"
   ]
  },
  {
   "cell_type": "markdown",
   "id": "466d060c-3dce-45cd-9574-6af72396bf69",
   "metadata": {},
   "source": [
    "# 4)wap to take a string from user and pass it as an arg and cinvert all lower case and upper case"
   ]
  },
  {
   "cell_type": "code",
   "execution_count": 8,
   "id": "40564db0-bc9e-4167-bb12-c14ce8fa00f5",
   "metadata": {},
   "outputs": [
    {
     "name": "stdin",
     "output_type": "stream",
     "text": [
      "Enter string: dharmik\n"
     ]
    },
    {
     "name": "stdout",
     "output_type": "stream",
     "text": [
      "DHARMIK\n"
     ]
    }
   ],
   "source": [
    "n=input(\"Enter string:\")\n",
    "def f1(n):\n",
    "    s=\"\"\n",
    "    for i in n:\n",
    "        if i.lower():\n",
    "            s=s+i.upper()\n",
    "        else:\n",
    "            s=s+i\n",
    "    return s\n",
    "print(f1(n))"
   ]
  },
  {
   "cell_type": "markdown",
   "id": "eb2f8dad-f1da-4b92-a9a6-f1f92e3f104a",
   "metadata": {},
   "source": [
    "# 5)wap to find factorial of number"
   ]
  },
  {
   "cell_type": "code",
   "execution_count": 9,
   "id": "85ad726f-e02c-4583-838c-4bef86012f0e",
   "metadata": {},
   "outputs": [
    {
     "name": "stdin",
     "output_type": "stream",
     "text": [
      "Enter n: 5\n"
     ]
    },
    {
     "name": "stdout",
     "output_type": "stream",
     "text": [
      "120\n"
     ]
    }
   ],
   "source": [
    "n=int(input(\"Enter n:\"))\n",
    "def f1(n):\n",
    "    fact=1\n",
    "    for i in range(1,n+1):\n",
    "        fact*=i\n",
    "    return fact\n",
    "print (f1(n))"
   ]
  },
  {
   "cell_type": "markdown",
   "id": "3fa33338-02ca-43b2-bd21-43c28ebb29f3",
   "metadata": {},
   "source": [
    "# 6) WAP to to generate fibonacci series using function."
   ]
  },
  {
   "cell_type": "code",
   "execution_count": 11,
   "id": "29b6a08c-9d64-4160-b29b-4f480aeab306",
   "metadata": {},
   "outputs": [
    {
     "name": "stdin",
     "output_type": "stream",
     "text": [
      "Enter num. 5\n"
     ]
    },
    {
     "name": "stdout",
     "output_type": "stream",
     "text": [
      "0\n",
      "1\n",
      "1\n",
      "2\n",
      "3\n"
     ]
    }
   ],
   "source": [
    "n=int(input(\"Enter num.\"))\n",
    "def fibonacci(n):\n",
    "    a=0\n",
    "    sum=0\n",
    "    b=1\n",
    "    for i in range(n):\n",
    "        sum1=b+a\n",
    "        print(a)\n",
    "        a=b\n",
    "        b=sum1\n",
    "fibonacci(n)"
   ]
  },
  {
   "cell_type": "markdown",
   "id": "cd1c8d1d-67d3-4fb0-894c-728249296862",
   "metadata": {},
   "source": [
    "# 7)WAP to implement a simple calc using lambda function."
   ]
  },
  {
   "cell_type": "code",
   "execution_count": 17,
   "id": "a1a934a2-f0df-41ea-bc2f-f5b2a6f4e33d",
   "metadata": {},
   "outputs": [
    {
     "name": "stdin",
     "output_type": "stream",
     "text": [
      "Enter a: 5\n",
      "Enter b: 5\n",
      "Enter choice: +\n"
     ]
    },
    {
     "name": "stdout",
     "output_type": "stream",
     "text": [
      "10\n"
     ]
    }
   ],
   "source": [
    "a=int(input(\"Enter a:\"))\n",
    "b=int(input(\"Enter b:\"))\n",
    "c=input(\"Enter choice:\")\n",
    "cale = lambda a,b,c:a+b if (c=='+')else a-b if (c=='-')else a*b if(c=='*')else a/b if(c=='/')else print(\"Valid choice\")\n",
    "print(cale(a,b,c))"
   ]
  },
  {
   "cell_type": "markdown",
   "id": "6cbcf86d-6cb7-495b-a4fe-0c8901333c2f",
   "metadata": {},
   "source": [
    "# 8) WAP that defines a function that returns one if the number is prime otherwise returns zero."
   ]
  },
  {
   "cell_type": "code",
   "execution_count": 24,
   "id": "80863e84-150c-472a-95dd-ff6a8553194c",
   "metadata": {},
   "outputs": [
    {
     "name": "stdin",
     "output_type": "stream",
     "text": [
      "Enter a: 52\n"
     ]
    },
    {
     "ename": "SyntaxError",
     "evalue": "'return' outside function (1813479369.py, line 5)",
     "output_type": "error",
     "traceback": [
      "\u001b[1;36m  Cell \u001b[1;32mIn[24], line 5\u001b[1;36m\u001b[0m\n\u001b[1;33m    return 0\u001b[0m\n\u001b[1;37m    ^\u001b[0m\n\u001b[1;31mSyntaxError\u001b[0m\u001b[1;31m:\u001b[0m 'return' outside function\n"
     ]
    }
   ],
   "source": [
    "n=int(input(\"Enter a:\"))\n",
    "if prime(n):\n",
    "    for i in range(2,n):\n",
    "        if (n%i==0):\n",
    "            return 0\n",
    "    else:\n",
    "         return 1\n",
    "ans=prime(n)\n",
    "print(ans)"
   ]
  },
  {
   "cell_type": "code",
   "execution_count": null,
   "id": "eb856343-4ef0-4084-a744-7e885edf1605",
   "metadata": {},
   "outputs": [],
   "source": []
  }
 ],
 "metadata": {
  "kernelspec": {
   "display_name": "Python 3 (ipykernel)",
   "language": "python",
   "name": "python3"
  },
  "language_info": {
   "codemirror_mode": {
    "name": "ipython",
    "version": 3
   },
   "file_extension": ".py",
   "mimetype": "text/x-python",
   "name": "python",
   "nbconvert_exporter": "python",
   "pygments_lexer": "ipython3",
   "version": "3.13.0"
  }
 },
 "nbformat": 4,
 "nbformat_minor": 5
}

{
 "cells": [
  {
   "cell_type": "markdown",
   "id": "05a64e4e-1482-443c-9f08-493958bfe589",
   "metadata": {},
   "source": [
    "# 1 WAP to create a set using list of elements and size\n"
   ]
  },
  {
   "cell_type": "code",
   "execution_count": 4,
   "id": "b6d2915d-57d7-41cf-a052-2215edb396e9",
   "metadata": {},
   "outputs": [
    {
     "name": "stdout",
     "output_type": "stream",
     "text": [
      "enter size here: 5\n",
      "enter elements here: 1\n",
      "enter elements here: 2\n",
      "enter elements here: 3\n",
      "enter elements here: 4\n",
      "enter elements here: 5\n"
     ]
    },
    {
     "name": "stdout",
     "output_type": "stream",
     "text": [
      "your set is here: {1, 2, 3, 4, 5}\n",
      "your set size is: 5\n"
     ]
    }
   ],
   "source": [
    "n=int(input(\"enter size here:\"))\n",
    "list1=[]\n",
    "for i in range(n):\n",
    "    list1.append(int(input(\"enter elements here:\")))\n",
    "s=set(list1)\n",
    "print(\"your set is here:\",s)\n",
    "print(\"your set size is:\",len(s))\n",
    "    "
   ]
  },
  {
   "cell_type": "markdown",
   "id": "3cfeab13-e22e-4042-b79a-90e4882df501",
   "metadata": {},
   "source": [
    "# 2 WAP to find maximum and minimum element from set"
   ]
  },
  {
   "cell_type": "code",
   "execution_count": 5,
   "id": "baae3ea4-1160-4dc0-8753-0c3838046c75",
   "metadata": {},
   "outputs": [
    {
     "name": "stdout",
     "output_type": "stream",
     "text": [
      "enter size here: 5\n",
      "enter elements here: 1\n",
      "enter elements here: 2\n",
      "enter elements here: 3\n",
      "enter elements here: 4\n",
      "enter elements here: 5\n"
     ]
    },
    {
     "name": "stdout",
     "output_type": "stream",
     "text": [
      "your set is here: {1, 2, 3, 4, 5}\n",
      "your maximum value of set is: 5\n",
      "your minimum value of set is: 1\n"
     ]
    }
   ],
   "source": [
    "n=int(input(\"enter size here:\"))\n",
    "s=set()\n",
    "for i in range(n):\n",
    "    s.add(int(input(\"enter elements here:\")))\n",
    "maximum=max(s)\n",
    "minimum=min(s)\n",
    "print(\"your set is here:\",s)\n",
    "print(\"your maximum value of set is:\",maximum)\n",
    "print(\"your minimum value of set is:\",minimum)"
   ]
  },
  {
   "cell_type": "markdown",
   "id": "7dc58d39-700f-4bad-beee-7f39b3f8ff4a",
   "metadata": {},
   "source": [
    "# 3 WAP to remove an element from a set given by user"
   ]
  },
  {
   "cell_type": "code",
   "execution_count": 12,
   "id": "44cf94e4-2b1a-4646-a661-7a235a989db4",
   "metadata": {},
   "outputs": [
    {
     "name": "stdout",
     "output_type": "stream",
     "text": [
      "enter size here: 5\n",
      "enter elements here: 1\n",
      "enter elements here: 2\n",
      "enter elements here: 3\n",
      "enter elements here: 4\n",
      "enter elements here: 5\n"
     ]
    },
    {
     "name": "stdout",
     "output_type": "stream",
     "text": [
      "your set is here: {1, 2, 3, 4, 5}\n"
     ]
    },
    {
     "name": "stdout",
     "output_type": "stream",
     "text": [
      "enter value to remove: 6\n"
     ]
    },
    {
     "name": "stdout",
     "output_type": "stream",
     "text": [
      "not found\n"
     ]
    }
   ],
   "source": [
    "n=int(input(\"enter size here:\"))\n",
    "s=set()\n",
    "for i in range(n):\n",
    "    s.add(int(input(\"enter elements here:\")))\n",
    "print(\"your set is here:\",s)\n",
    "x=int(input(\"enter value to remove:\"))\n",
    "if( x  in s):\n",
    "    s.remove(x)\n",
    "    print(\" after remove value your set is: \",s)\n",
    "else:\n",
    "    print(\"not found\")\n"
   ]
  },
  {
   "cell_type": "markdown",
   "id": "f254aef5-8944-47fc-9d1a-1b8ef328d655",
   "metadata": {},
   "source": [
    "# 4 WAP to convert given set into tuple and into list both"
   ]
  },
  {
   "cell_type": "code",
   "execution_count": 9,
   "id": "a803709a-1f3c-44b7-b36f-4d4704860079",
   "metadata": {},
   "outputs": [
    {
     "name": "stdout",
     "output_type": "stream",
     "text": [
      "enter size here: 5\n",
      "enter elements here: 1\n",
      "enter elements here: 2\n",
      "enter elements here: 3\n",
      "enter elements here: 4\n",
      "enter elements here: 5\n"
     ]
    },
    {
     "name": "stdout",
     "output_type": "stream",
     "text": [
      "your set is here: {1, 2, 3, 4, 5}\n",
      "set into list is: [1, 2, 3, 4, 5]\n",
      "set into tuple is: (1, 2, 3, 4, 5)\n"
     ]
    }
   ],
   "source": [
    "n=int(input(\"enter size here:\"))\n",
    "s=set()\n",
    "for i in range(n):\n",
    "    s.add(int(input(\"enter elements here:\")))\n",
    "print(\"your set is here:\",s)\n",
    "list1=list(s)\n",
    "tup=tuple(s)\n",
    "print(\"set into list is:\",list1)\n",
    "print(\"set into tuple is:\",tup)"
   ]
  },
  {
   "cell_type": "markdown",
   "id": "4d5fa18f-e9da-45bc-9021-002cd152956b",
   "metadata": {},
   "source": [
    "# 5 WAP to perform union,intersection,difference and symmetric difference operation in given two sets"
   ]
  },
  {
   "cell_type": "code",
   "execution_count": 13,
   "id": "b9acfd20-00e0-43c5-aa0b-2f9e97380331",
   "metadata": {},
   "outputs": [
    {
     "name": "stdout",
     "output_type": "stream",
     "text": [
      "enter size of set1: 3\n",
      "enter elements here: 1\n",
      "enter elements here: 2\n",
      "enter elements here: 3\n"
     ]
    },
    {
     "name": "stdout",
     "output_type": "stream",
     "text": [
      "your set1 is here: {1, 2, 3}\n"
     ]
    },
    {
     "name": "stdout",
     "output_type": "stream",
     "text": [
      "enter size of set2: 5\n",
      "enter elements here: 1\n",
      "enter elements here: 2\n",
      "enter elements here: 3\n",
      "enter elements here: 4\n",
      "enter elements here: 5\n"
     ]
    },
    {
     "name": "stdout",
     "output_type": "stream",
     "text": [
      "your set2 is here: {1, 2, 3, 4, 5}\n",
      "union is: {1, 2, 3, 4, 5}\n",
      "intersection is: {1, 2, 3}\n",
      "difference is: set()\n",
      "difference is: {4, 5}\n",
      "symmetric difference is: {4, 5}\n"
     ]
    }
   ],
   "source": [
    "n1=int(input(\"enter size of set1:\"))\n",
    "s1=set()\n",
    "for i in range(n1):\n",
    "    s1.add(int(input(\"enter elements here:\")))\n",
    "print(\"your set1 is here:\",s1)\n",
    "\n",
    "n2=int(input(\"enter size of set2:\"))\n",
    "s2=set()\n",
    "for i in range(n2):\n",
    "    s2.add(int(input(\"enter elements here:\")))\n",
    "print(\"your set2 is here:\",s2)\n",
    "\n",
    "print(\"union is:\",s1|s2) \n",
    "print(\"intersection is:\",s1&s2) \n",
    "print(\"difference is:\",s1-s2) \n",
    "print(\"difference is:\",s2-s1)\n",
    "print(\"symmetric difference is:\",s1.symmetric_difference(s2)) "
   ]
  }
 ],
 "metadata": {
  "kernelspec": {
   "display_name": "Python 3 (ipykernel)",
   "language": "python",
   "name": "python3"
  },
  "language_info": {
   "codemirror_mode": {
    "name": "ipython",
    "version": 3
   },
   "file_extension": ".py",
   "mimetype": "text/x-python",
   "name": "python",
   "nbconvert_exporter": "python",
   "pygments_lexer": "ipython3",
   "version": "3.13.0"
  }
 },
 "nbformat": 4,
 "nbformat_minor": 5
}

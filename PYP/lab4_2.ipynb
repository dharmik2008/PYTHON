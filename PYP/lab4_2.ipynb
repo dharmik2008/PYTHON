{
 "cells": [
  {
   "cell_type": "markdown",
   "id": "615b8c35-0be1-4d06-a045-5960cd4cbefa",
   "metadata": {},
   "source": [
    "# 1. WAP to print length of string without len function"
   ]
  },
  {
   "cell_type": "code",
   "execution_count": 3,
   "id": "b5a7c333-78db-427f-af53-4e4c8153f554",
   "metadata": {},
   "outputs": [
    {
     "name": "stdin",
     "output_type": "stream",
     "text": [
      "enter string dharmik\n"
     ]
    },
    {
     "name": "stdout",
     "output_type": "stream",
     "text": [
      "7\n"
     ]
    }
   ],
   "source": [
    "a=input(\"enter string\")\n",
    "l=0\n",
    "for i in a:\n",
    "    l=l+1\n",
    "print (l)"
   ]
  },
  {
   "cell_type": "markdown",
   "id": "7910e8ee-4d40-4d63-a810-c917e105abb9",
   "metadata": {},
   "source": [
    "# 2. WAP to remove iTH character from given string"
   ]
  },
  {
   "cell_type": "code",
   "execution_count": 4,
   "id": "42d3196c-2726-4f97-8c3a-e1dcd5753781",
   "metadata": {},
   "outputs": [
    {
     "name": "stdin",
     "output_type": "stream",
     "text": [
      "Enter string dharmik hello\n",
      "index to remove 7\n"
     ]
    },
    {
     "name": "stdout",
     "output_type": "stream",
     "text": [
      "dharmikhello\n"
     ]
    }
   ],
   "source": [
    "a=input(\"Enter string\")\n",
    "i=int(input(\"index to remove\"))\n",
    "print (a[:i]+ a[i+1:])"
   ]
  },
  {
   "cell_type": "markdown",
   "id": "f9f153d2-4017-4874-b683-88e481f7f9fc",
   "metadata": {},
   "source": [
    "# 3. WAP to count R in string\"DARSHAN UNIVERSITY\""
   ]
  },
  {
   "cell_type": "code",
   "execution_count": 5,
   "id": "57062f17-e26c-4e49-9d90-366513d31618",
   "metadata": {},
   "outputs": [
    {
     "name": "stdout",
     "output_type": "stream",
     "text": [
      "No. of r is 2\n"
     ]
    }
   ],
   "source": [
    "a=\"darshan university\"\n",
    "print (\"No. of r is\",a.count(\"r\"))"
   ]
  },
  {
   "cell_type": "markdown",
   "id": "003af732-6bb4-4875-b85d-92b611e618ee",
   "metadata": {},
   "source": [
    "# 4. WAP to count vowels in a string"
   ]
  },
  {
   "cell_type": "code",
   "execution_count": 8,
   "id": "719ebda7-4a6b-4d72-9106-2ba0ca94321d",
   "metadata": {},
   "outputs": [
    {
     "name": "stdin",
     "output_type": "stream",
     "text": [
      "Enter string aeiou AEIOU\n"
     ]
    },
    {
     "name": "stdout",
     "output_type": "stream",
     "text": [
      "No. of vowels is 10\n"
     ]
    }
   ],
   "source": [
    "a=input(\"Enter string\")\n",
    "print (\"No. of vowels is\",a.count(\"a\")+a.count(\"e\")+a.count(\"i\")+a.count(\"o\")+a.count(\"u\")+a.count(\"A\")+a.count(\"E\")+a.count(\"I\")+a.count(\"O\")+a.count(\"U\"))       "
   ]
  },
  {
   "cell_type": "markdown",
   "id": "503723aa-f7a5-491e-b014-254a89015cf0",
   "metadata": {},
   "source": [
    "# 5. WAP to print even length words in given string"
   ]
  },
  {
   "cell_type": "code",
   "execution_count": 10,
   "id": "4155a128-9678-4a0b-a3c9-d1bd0ec6c900",
   "metadata": {},
   "outputs": [
    {
     "name": "stdin",
     "output_type": "stream",
     "text": [
      "Enter string it is\n"
     ]
    },
    {
     "name": "stdout",
     "output_type": "stream",
     "text": [
      "it\n",
      "is\n"
     ]
    }
   ],
   "source": [
    "a=input(\"Enter string\")\n",
    "str=a.split(\" \")\n",
    "for i in str:\n",
    "    if (len(i)%2==0):\n",
    "        print (i)"
   ]
  },
  {
   "cell_type": "markdown",
   "id": "ea14683a-6afd-46f4-b47e-f1d3bc14e329",
   "metadata": {},
   "source": [
    "# 6. WAP to check given string is palindrome or not"
   ]
  },
  {
   "cell_type": "code",
   "execution_count": 11,
   "id": "b4b5fcbc-3c34-444c-a8c0-6b197567092d",
   "metadata": {},
   "outputs": [
    {
     "name": "stdin",
     "output_type": "stream",
     "text": [
      "Enter string: hello du\n"
     ]
    },
    {
     "name": "stdout",
     "output_type": "stream",
     "text": [
      "non palindrome\n"
     ]
    }
   ],
   "source": [
    "a=input(\"Enter string:\")\n",
    "print (\"palindrome\" if (a[::-1]==a) else \"non palindrome\")"
   ]
  },
  {
   "cell_type": "markdown",
   "id": "c6529a0a-9518-4d13-8698-2290dc426986",
   "metadata": {},
   "source": [
    "# 7. WAP to do string slicing from left rotate and right rotate the given string by d elements(where d<=n)"
   ]
  },
  {
   "cell_type": "code",
   "execution_count": 12,
   "id": "ec24910f-fd87-4389-bb69-0e6ef851bf18",
   "metadata": {},
   "outputs": [
    {
     "name": "stdin",
     "output_type": "stream",
     "text": [
      "Enter String dharmikv\n",
      "Enter Word Space 1\n"
     ]
    },
    {
     "name": "stdout",
     "output_type": "stream",
     "text": [
      "left vdharmik\n",
      "right harmikvd\n"
     ]
    }
   ],
   "source": [
    "a=input(\"Enter String\")\n",
    "d=int(input(\"Enter Word Space\"))\n",
    "l=len(a)\n",
    "print (\"left\",a[-d:]+ a[:-d])\n",
    "print (\"right\",a[d:]+ a[:d])"
   ]
  },
  {
   "cell_type": "markdown",
   "id": "94da0c55-b869-4e0f-85a6-d90c100ca0c6",
   "metadata": {},
   "source": [
    "# 8. WAP to reverse words in the string."
   ]
  },
  {
   "cell_type": "code",
   "execution_count": 13,
   "id": "82739c97-4364-4e25-80da-49533771f410",
   "metadata": {},
   "outputs": [
    {
     "name": "stdin",
     "output_type": "stream",
     "text": [
      "Enter String hello world\n"
     ]
    },
    {
     "name": "stdout",
     "output_type": "stream",
     "text": [
      "world\n",
      "hello\n"
     ]
    }
   ],
   "source": [
    "a=input(\"Enter String\")\n",
    "s1=a.split(\" \")\n",
    "for i in s1[::-1]:\n",
    "    print (i)"
   ]
  }
 ],
 "metadata": {
  "kernelspec": {
   "display_name": "Python 3 (ipykernel)",
   "language": "python",
   "name": "python3"
  },
  "language_info": {
   "codemirror_mode": {
    "name": "ipython",
    "version": 3
   },
   "file_extension": ".py",
   "mimetype": "text/x-python",
   "name": "python",
   "nbconvert_exporter": "python",
   "pygments_lexer": "ipython3",
   "version": "3.13.0"
  }
 },
 "nbformat": 4,
 "nbformat_minor": 5
}

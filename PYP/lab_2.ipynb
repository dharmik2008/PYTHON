{
 "cells": [
  {
   "cell_type": "markdown",
   "id": "791961f7-b37b-4fc9-aeff-a53765b4cbf3",
   "metadata": {},
   "source": [
    "# lab_2"
   ]
  },
  {
   "attachments": {},
   "cell_type": "markdown",
   "id": "20c915eb-a216-4024-8690-8fe5cdc6079d",
   "metadata": {},
   "source": [
    "# 1)wap to check weather given number is positive or negative"
   ]
  },
  {
   "cell_type": "code",
   "execution_count": 1,
   "id": "bfacc12d-2279-4470-bf22-484036c78d6a",
   "metadata": {},
   "outputs": [
    {
     "name": "stdin",
     "output_type": "stream",
     "text": [
      "enter value of a 10\n"
     ]
    },
    {
     "name": "stdout",
     "output_type": "stream",
     "text": [
      "10 is positive\n"
     ]
    }
   ],
   "source": [
    "a=int(input(\"enter value of a\"))\n",
    "\n",
    "if a>0:\n",
    "    print (a,\"is positive\")\n",
    "else:\n",
    "    print (a,\"is negative\")"
   ]
  },
  {
   "cell_type": "markdown",
   "id": "52557241-2ed6-4722-9d10-0bce6fd9fe5d",
   "metadata": {},
   "source": [
    "# 2)wap to check weather given number is odd or even"
   ]
  },
  {
   "cell_type": "code",
   "execution_count": 2,
   "id": "99e981a3-b9c6-437c-973a-b71b3ad739ba",
   "metadata": {},
   "outputs": [
    {
     "name": "stdin",
     "output_type": "stream",
     "text": [
      "enter value of a 24\n"
     ]
    },
    {
     "name": "stdout",
     "output_type": "stream",
     "text": [
      "24 is even\n"
     ]
    }
   ],
   "source": [
    "a=int(input(\"enter value of a\"))\n",
    "\n",
    "if a%2==0:\n",
    "    print (a,\"is even\")\n",
    "else:\n",
    "    print (a,\"is odd\")"
   ]
  },
  {
   "cell_type": "markdown",
   "id": "5be0b4e9-9fb8-4e5a-9742-3b2543428ef2",
   "metadata": {},
   "source": [
    "# 3)wap to find largest number from given three number"
   ]
  },
  {
   "cell_type": "code",
   "execution_count": 4,
   "id": "75b4d0ea-27e4-49b9-b037-10b87f635364",
   "metadata": {},
   "outputs": [
    {
     "name": "stdin",
     "output_type": "stream",
     "text": [
      "enter 1st value 10\n",
      "enter 2nd value 12\n",
      "enter 3rd value 13\n"
     ]
    },
    {
     "name": "stdout",
     "output_type": "stream",
     "text": [
      "13 is largest\n"
     ]
    }
   ],
   "source": [
    "a=int(input(\"enter 1st value\"))\n",
    "b=int(input(\"enter 2nd value\"))\n",
    "c=int(input(\"enter 3rd value\"))\n",
    "if a>b:\n",
    "    if a>c:\n",
    "        print (a,\"is largest\")\n",
    "    else:\n",
    "        print (c,\"is largest\")\n",
    "else:\n",
    "    if b>c:\n",
    "        print(b,\"is largest\")\n",
    "    else:\n",
    "        print(c,\"is largest\")"
   ]
  },
  {
   "cell_type": "markdown",
   "id": "41ee3725-8036-4f0f-995c-d076e77a7b60",
   "metadata": {},
   "source": [
    "# 4)wap display the day name according to number give by user"
   ]
  },
  {
   "cell_type": "code",
   "execution_count": 5,
   "id": "e00369c6-856c-4470-96e0-9a0787a45f1e",
   "metadata": {},
   "outputs": [
    {
     "name": "stdin",
     "output_type": "stream",
     "text": [
      "enter value 5\n"
     ]
    },
    {
     "name": "stdout",
     "output_type": "stream",
     "text": [
      "Friday\n"
     ]
    }
   ],
   "source": [
    "a=int(input(\"enter value\"))\n",
    "if a==1:\n",
    "    print (\"Monday\")\n",
    "elif a==2:\n",
    "    print (\"Tuesday\")\n",
    "elif a==3:\n",
    "    print (\"Wednesday\")\n",
    "elif a==4:\n",
    "    print (\"Thrusday\")\n",
    "elif a==5:\n",
    "    print (\"Friday\")\n",
    "elif a==6:\n",
    "    print (\"Suterday\")\n",
    "else:\n",
    "    print (\"Sunday\")"
   ]
  },
  {
   "cell_type": "markdown",
   "id": "26a01971-5a39-443f-8f3d-9a984fc4aab4",
   "metadata": {},
   "source": [
    "# 5)wap to print addition,subtraction,division,multiplacation according to user input"
   ]
  },
  {
   "cell_type": "code",
   "execution_count": 1,
   "id": "1a5db0fd-3559-4f18-9380-409bf109798b",
   "metadata": {},
   "outputs": [
    {
     "name": "stdin",
     "output_type": "stream",
     "text": [
      "enter 1st value 13\n",
      "enter 2nd value 15\n",
      "enter 1:add \n",
      " 2:sub \n",
      " 3:div \n",
      " 4:multi 4\n"
     ]
    },
    {
     "name": "stdout",
     "output_type": "stream",
     "text": [
      "195 multiplacation\n"
     ]
    }
   ],
   "source": [
    "a=int(input(\"enter 1st value\"))\n",
    "b=int(input(\"enter 2nd value\"))\n",
    "c=int(input(\"enter 1:add \\n 2:sub \\n 3:div \\n 4:multi\"))\n",
    "if c==1:\n",
    "    print(a+b,\"addition\")\n",
    "elif c==2:\n",
    "    print(a-b,\"subtraction\")\n",
    "elif c==3:\n",
    "    print(a/b,\"division\")\n",
    "else:\n",
    "    print(a*b,\"multiplacation\")"
   ]
  },
  {
   "cell_type": "markdown",
   "id": "d99dc941-9bd8-408f-8b78-d613857ec36b",
   "metadata": {},
   "source": [
    "# 6)wap to print max of two numbers using ternary operator"
   ]
  },
  {
   "cell_type": "code",
   "execution_count": 9,
   "id": "04a25a58-e7f7-4492-8636-933de1c5fd9f",
   "metadata": {},
   "outputs": [
    {
     "name": "stdin",
     "output_type": "stream",
     "text": [
      "enter 1st value 10\n",
      "enter 2nd value 15\n"
     ]
    },
    {
     "name": "stdout",
     "output_type": "stream",
     "text": [
      "15\n"
     ]
    }
   ],
   "source": [
    "a=int(input(\"enter 1st value\"))\n",
    "b=int(input(\"enter 2nd value\"))\n",
    "print (a if a>b else b)"
   ]
  },
  {
   "cell_type": "markdown",
   "id": "c8eeb8dd-e3ac-4f14-92ce-4761c771a223",
   "metadata": {},
   "source": [
    "# 7)wap to print max of three numbere using ternary poerator"
   ]
  },
  {
   "cell_type": "code",
   "execution_count": 10,
   "id": "eae6ff35-dd1a-4e68-9af5-4aa2db4fbe80",
   "metadata": {},
   "outputs": [
    {
     "name": "stdin",
     "output_type": "stream",
     "text": [
      "enter 1st value 10\n",
      "enter 2nd value 20\n",
      "enter 3st value 30\n"
     ]
    },
    {
     "name": "stdout",
     "output_type": "stream",
     "text": [
      "30\n"
     ]
    }
   ],
   "source": [
    "a=int(input(\"enter 1st value\"))\n",
    "b=int(input(\"enter 2nd value\"))\n",
    "c=int(input(\"enter 3st value\"))\n",
    "print (a if a>c else c if a>b else a if a>c else c)"
   ]
  },
  {
   "cell_type": "markdown",
   "id": "29ec7df7-b8c5-4b27-99a6-697082eb2cee",
   "metadata": {},
   "source": [
    "# 8)wap to print the given leap or not"
   ]
  },
  {
   "cell_type": "code",
   "execution_count": 12,
   "id": "8ff818e9-c75e-47a1-9bfe-3334bcb9bdae",
   "metadata": {},
   "outputs": [
    {
     "name": "stdin",
     "output_type": "stream",
     "text": [
      "enter year 2008\n"
     ]
    },
    {
     "name": "stdout",
     "output_type": "stream",
     "text": [
      "2008 is leap year\n"
     ]
    }
   ],
   "source": [
    "a=int(input(\"enter year\"))\n",
    "if a%400==0 or (a%4==0 and a%100!=0):\n",
    "    print (a,\"is leap year\")\n",
    "else:\n",
    "    print (a,\"is not leap year\")"
   ]
  },
  {
   "cell_type": "markdown",
   "id": "28dd7baf-5089-4168-85c4-7c60a548caaf",
   "metadata": {},
   "source": [
    "# 9)wap to calculate electricity bill based on following criteria. "
   ]
  },
  {
   "cell_type": "code",
   "execution_count": 16,
   "id": "be27c51c-986f-4f09-a883-1b8781359672",
   "metadata": {},
   "outputs": [
    {
     "name": "stdin",
     "output_type": "stream",
     "text": [
      "Enter units 450\n"
     ]
    },
    {
     "name": "stdout",
     "output_type": "stream",
     "text": [
      "Bill= 2825.0\n"
     ]
    }
   ],
   "source": [
    "#1)Take the units from user.\n",
    "#2)first 1 to 50 units-2rs/unit.\n",
    "#3)next 50 to 100 unit-3.5rs/unit.\n",
    "#4)next 100 to 200 unit-5.5rs/unit.\n",
    "#5)above 200 unit-8rs/unit.\n",
    "\n",
    "unit = float(input(\"Enter units\"))\n",
    "if unit<=50:\n",
    "    print (\"Bill=\",unit*2)\n",
    "elif unit<=100:\n",
    "    print (\"Bill=\",100+((unit-50)*3.5))\n",
    "elif unit<=200:\n",
    "    print (\"Bill=\",275+((unit-100)*5.5))\n",
    "else:\n",
    "    print (\"Bill=\",825+((unit-200)*8))"
   ]
  }
 ],
 "metadata": {
  "kernelspec": {
   "display_name": "Python 3 (ipykernel)",
   "language": "python",
   "name": "python3"
  },
  "language_info": {
   "codemirror_mode": {
    "name": "ipython",
    "version": 3
   },
   "file_extension": ".py",
   "mimetype": "text/x-python",
   "name": "python",
   "nbconvert_exporter": "python",
   "pygments_lexer": "ipython3",
   "version": "3.13.0"
  }
 },
 "nbformat": 4,
 "nbformat_minor": 5
}

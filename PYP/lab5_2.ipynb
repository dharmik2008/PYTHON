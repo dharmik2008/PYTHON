{
 "cells": [
  {
   "cell_type": "markdown",
   "id": "43cdf65b-e6e9-44db-aa51-8bf8364a8c55",
   "metadata": {},
   "source": [
    "# 1 WAP to find the sum of all elements of List"
   ]
  },
  {
   "cell_type": "code",
   "execution_count": 1,
   "id": "803aced8-ddb9-4e01-ad36-2fdb958f5374",
   "metadata": {},
   "outputs": [
    {
     "name": "stdout",
     "output_type": "stream",
     "text": [
      "Enter size here 3\n",
      "Enter element 1\n",
      "Enter element 2\n",
      "Enter element 3\n"
     ]
    },
    {
     "name": "stdout",
     "output_type": "stream",
     "text": [
      "Sum is 6\n"
     ]
    }
   ],
   "source": [
    "n=int(input(\"Enter size here\"))\n",
    "l1=[]\n",
    "total=0\n",
    "for i in range(n):\n",
    "    l1.append(int(input(\"Enter element\")))\n",
    "    total+=l1[i]\n",
    "print(\"Sum is\",total)"
   ]
  },
  {
   "cell_type": "markdown",
   "id": "a14edaee-9a8d-4469-8559-6e2bfc92c32e",
   "metadata": {},
   "source": [
    "# 2 WAP to find smallest and largest element from list"
   ]
  },
  {
   "cell_type": "code",
   "execution_count": 2,
   "id": "c6011dca-5a7e-4e38-9e73-221dc5608fad",
   "metadata": {},
   "outputs": [
    {
     "name": "stdout",
     "output_type": "stream",
     "text": [
      "Total size here 5\n",
      "Enter element : 1\n",
      "Enter element : 2\n",
      "Enter element : 3\n",
      "Enter element : 4\n",
      "Enter element : 5\n"
     ]
    },
    {
     "name": "stdout",
     "output_type": "stream",
     "text": [
      "Element list [1, 2, 3, 4, 5]\n",
      "Largest is 5\n",
      "smallest is 1\n"
     ]
    }
   ],
   "source": [
    "n=int(input(\"Total size here\"))\n",
    "l2=[]\n",
    "for i in range(n):\n",
    "    l2.append(int(input(\"Enter element :\")))\n",
    "for i in range(n):\n",
    "    if(i==0):\n",
    "        largest=l2[i]\n",
    "        smallest=l2[i]\n",
    "    elif(l2[i]>largest):\n",
    "        largest=l2[i]\n",
    "    elif (l2[i]<smallest) :\n",
    "        smallest=l2[i]\n",
    "print(\"Element list\",l2)\n",
    "print(\"Largest is\",largest)\n",
    "print(\"smallest is\",smallest)"
   ]
  },
  {
   "cell_type": "code",
   "execution_count": 3,
   "id": "4f496ee1-5b4f-48f3-a6d4-39a12536baa7",
   "metadata": {},
   "outputs": [
    {
     "name": "stdout",
     "output_type": "stream",
     "text": [
      "Total size here 6\n",
      "Enter element : 2\n",
      "Enter element : 20\n",
      "Enter element : 30\n",
      "Enter element : 50\n",
      "Enter element : 60\n",
      "Enter element : 10\n"
     ]
    },
    {
     "name": "stdout",
     "output_type": "stream",
     "text": [
      "Largest is  60\n",
      "smallest is 2\n"
     ]
    }
   ],
   "source": [
    "# OR\n",
    "n=int(input(\"Total size here\"))\n",
    "l2=[]\n",
    "for i in range(n):\n",
    "    l2.append(int(input(\"Enter element :\")))\n",
    "    largest=max(l2)\n",
    "    smallest=min(l2)\n",
    "print(\"Largest is \",largest)\n",
    "print(\"smallest is\",smallest)"
   ]
  },
  {
   "cell_type": "markdown",
   "id": "85cfbbde-66e6-4531-9f3b-0957dcf009d8",
   "metadata": {},
   "source": [
    "# 3 WAP to take list from user and split into two parts and append first part at the end of second part"
   ]
  },
  {
   "cell_type": "code",
   "execution_count": 6,
   "id": "0d49f0e7-2223-4c4a-ae2c-5cda061a5bca",
   "metadata": {},
   "outputs": [
    {
     "name": "stdout",
     "output_type": "stream",
     "text": [
      "enter size here 10\n",
      "Enter element : 1\n",
      "Enter element : 2\n",
      "Enter element : 3\n",
      "Enter element : 4\n",
      "Enter element : 5\n",
      "Enter element : 6\n",
      "Enter element : 7\n",
      "Enter element : 8\n",
      "Enter element : 9\n",
      "Enter element : 10\n"
     ]
    },
    {
     "name": "stdout",
     "output_type": "stream",
     "text": [
      "[6, 7, 8, 9, 10, 1, 2, 3, 4, 5]\n"
     ]
    }
   ],
   "source": [
    "n=int(input(\"enter size here\"))\n",
    "l3=[]\n",
    "for i in range(n):\n",
    "     l3.append(int(input(\"Enter element :\")))      \n",
    "mid=len(l3)//2 \n",
    "l4=l3[:mid]\n",
    "l5=l3[mid:]\n",
    "l5.extend(l4)\n",
    "print(l5)"
   ]
  },
  {
   "cell_type": "markdown",
   "id": "a317ac22-bcd6-4711-9219-6a00d32bb5bc",
   "metadata": {},
   "source": [
    "# 4 WAP to interchange first and last element of list"
   ]
  },
  {
   "cell_type": "code",
   "execution_count": 7,
   "id": "cf774a5e-2256-4295-a03f-9d911985a2c2",
   "metadata": {},
   "outputs": [
    {
     "name": "stdout",
     "output_type": "stream",
     "text": [
      "Enter size 5\n",
      "enter element 1\n",
      "enter element 2\n",
      "enter element 3\n",
      "enter element 4\n",
      "enter element 5\n"
     ]
    },
    {
     "name": "stdout",
     "output_type": "stream",
     "text": [
      "List is  [5, 2, 3, 4, 1]\n"
     ]
    }
   ],
   "source": [
    "size=int(input(\"Enter size\"))\n",
    "l3=[]\n",
    "for i in range(size):\n",
    "    l3.append(int(input(\"enter element\")))\n",
    "l3[0],l3[-1]=l3[-1],l3[0]\n",
    "print(\"List is \",l3)"
   ]
  },
  {
   "cell_type": "markdown",
   "id": "cf37e37d-56d3-4593-8762-a8154e966535",
   "metadata": {},
   "source": [
    "# 5 WAP to reverse the list entered by user"
   ]
  },
  {
   "cell_type": "code",
   "execution_count": 9,
   "id": "10ccf0cb-896e-47c9-91d4-7c8c56175c44",
   "metadata": {},
   "outputs": [
    {
     "name": "stdout",
     "output_type": "stream",
     "text": [
      "Enter size here 5\n",
      "enter element 1\n",
      "enter element 2\n",
      "enter element 3\n",
      "enter element 4\n",
      "enter element 5\n"
     ]
    },
    {
     "name": "stdout",
     "output_type": "stream",
     "text": [
      "Reverse list [5, 4, 3, 2, 1]\n"
     ]
    }
   ],
   "source": [
    "n=int(input(\"Enter size here\"))\n",
    "l4=[]\n",
    "for i in range(n):\n",
    "    l4.append(int(input(\"enter element\")))\n",
    "rev_lst=l4[::-1]\n",
    "print(\"Reverse list\",rev_lst)"
   ]
  },
  {
   "cell_type": "markdown",
   "id": "bbd2e49f-9e06-4ff4-b851-c242e8d29aee",
   "metadata": {},
   "source": [
    "# 6 WAP to print all even number of the list entered by user"
   ]
  },
  {
   "cell_type": "code",
   "execution_count": 10,
   "id": "7d036348-8a48-49e9-83f6-32e00ada6ecf",
   "metadata": {},
   "outputs": [
    {
     "name": "stdout",
     "output_type": "stream",
     "text": [
      "Enter size here 5\n",
      "enter element 1\n",
      "enter element 2\n",
      "enter element 3\n",
      "enter element 4\n",
      "enter element 5\n"
     ]
    },
    {
     "name": "stdout",
     "output_type": "stream",
     "text": [
      "2\n",
      "4\n"
     ]
    }
   ],
   "source": [
    "n=int(input(\"Enter size here\"))\n",
    "l5=[]\n",
    "for i in range(n):\n",
    "    l5.append(int(input(\"enter element\")))\n",
    "for i in l5:\n",
    "    if i%2==0 :\n",
    "        print(i)"
   ]
  },
  {
   "cell_type": "markdown",
   "id": "2b947e3f-9e58-4b09-862c-9b6916c2ff59",
   "metadata": {},
   "source": [
    "# 7 WAP to search for an element in the list"
   ]
  },
  {
   "cell_type": "code",
   "execution_count": 12,
   "id": "73ebf725-0fcc-40c3-b55a-c886e2b1be73",
   "metadata": {},
   "outputs": [
    {
     "name": "stdout",
     "output_type": "stream",
     "text": [
      "Enter size here 6\n",
      "enter element 1\n",
      "enter element 2\n",
      "enter element 3\n",
      "enter element 4\n",
      "enter element 5\n",
      "enter element 6\n",
      "Enter element you want to find 5\n"
     ]
    },
    {
     "name": "stdout",
     "output_type": "stream",
     "text": [
      "Found 4\n"
     ]
    }
   ],
   "source": [
    "n=int(input(\"Enter size here\"))\n",
    "l6=[]\n",
    "for i in range(n):\n",
    "    l6.append(int(input(\"enter element\")))\n",
    "x=int(input(\"Enter element you want to find\"))\n",
    "if x in l6:\n",
    "    print(\"Found\",l6.index(x))\n",
    "else :\n",
    "     print(\"Not found\")"
   ]
  },
  {
   "cell_type": "markdown",
   "id": "231c8cd2-5976-4633-a1cd-d3ffa8b21e19",
   "metadata": {},
   "source": [
    "# 8 WAP to sort a list in asending  order"
   ]
  },
  {
   "cell_type": "code",
   "execution_count": 1,
   "id": "8f047c93-2c0c-404a-8c21-849d50b9fad2",
   "metadata": {},
   "outputs": [
    {
     "name": "stdout",
     "output_type": "stream",
     "text": [
      "[1, 2, 3, 5, 6, 9]\n"
     ]
    }
   ],
   "source": [
    "n=int(input(\"Enter size here\"))\n",
    "l6=[]\n",
    "for i in range(n):\n",
    "    l6.append(int(input(\"enter element\")))\n",
    "l6.sort()\n",
    "print(l6)"
   ]
  },
  {
   "cell_type": "markdown",
   "id": "effa4948-cf4f-4a10-b348-d2e38139102a",
   "metadata": {},
   "source": [
    "# 9 WAP to convert list of character entered by user into string"
   ]
  },
  {
   "cell_type": "code",
   "execution_count": 16,
   "id": "11d9c0f1-ea0a-41ba-a896-3107c1cdb3e5",
   "metadata": {},
   "outputs": [
    {
     "name": "stdout",
     "output_type": "stream",
     "text": [
      "Enter size here 7\n",
      "enter element D\n",
      "enter element H\n",
      "enter element A\n",
      "enter element R\n",
      "enter element M\n",
      "enter element I\n",
      "enter element K\n"
     ]
    },
    {
     "name": "stdout",
     "output_type": "stream",
     "text": [
      "['D', 'H', 'A', 'R', 'M', 'I', 'K']\n",
      "DHARMIK\n"
     ]
    }
   ],
   "source": [
    "n=int(input(\"Enter size here\"))\n",
    "l6=[]\n",
    "for i in range(n):\n",
    "    l6.append(input(\"enter element\"))\n",
    "print(l6)\n",
    "print (\"\".join(l6))"
   ]
  },
  {
   "cell_type": "code",
   "execution_count": 19,
   "id": "ae248964-a582-4406-996b-581c893f3e1e",
   "metadata": {},
   "outputs": [
    {
     "name": "stdout",
     "output_type": "stream",
     "text": [
      "Enter space sapereted characters : d h a r m i k\n"
     ]
    },
    {
     "name": "stdout",
     "output_type": "stream",
     "text": [
      "['d', 'h', 'a', 'r', 'm', 'i', 'k']\n",
      "dharmik\n"
     ]
    }
   ],
   "source": [
    "s = input(\"Enter space sapereted characters :\")\n",
    "l6 = s.split(\" \")\n",
    "print(l6)\n",
    "print (\"\".join(l6))"
   ]
  },
  {
   "cell_type": "markdown",
   "id": "e320dc39-1b4f-4bb9-85ef-ff39b4134773",
   "metadata": {},
   "source": [
    "# 10 WAP to interchange the list element based on two positions entered by user"
   ]
  },
  {
   "cell_type": "code",
   "execution_count": 6,
   "id": "5b3d7114-e7be-439c-a432-b8fd68ff764d",
   "metadata": {},
   "outputs": [
    {
     "name": "stdout",
     "output_type": "stream",
     "text": [
      "[1, 2, 32, 4, 5]\n"
     ]
    },
    {
     "ename": "IndexError",
     "evalue": "list index out of range",
     "output_type": "error",
     "traceback": [
      "\u001b[1;31m---------------------------------------------------------------------------\u001b[0m",
      "\u001b[1;31mIndexError\u001b[0m                                Traceback (most recent call last)",
      "Cell \u001b[1;32mIn[6], line 8\u001b[0m\n\u001b[0;32m      6\u001b[0m x1\u001b[38;5;241m=\u001b[39m\u001b[38;5;28mint\u001b[39m(\u001b[38;5;28minput\u001b[39m(\u001b[38;5;124m\"\u001b[39m\u001b[38;5;124menter second position here\u001b[39m\u001b[38;5;124m\"\u001b[39m))\n\u001b[0;32m      7\u001b[0m \u001b[38;5;28mprint\u001b[39m(l3)\n\u001b[1;32m----> 8\u001b[0m l3[x],l3[x1]\u001b[38;5;241m=\u001b[39m\u001b[43ml3\u001b[49m\u001b[43m[\u001b[49m\u001b[43mx1\u001b[49m\u001b[43m]\u001b[49m,l3[x]\n\u001b[0;32m      9\u001b[0m \u001b[38;5;28mprint\u001b[39m(\u001b[38;5;124m\"\u001b[39m\u001b[38;5;124mList is \u001b[39m\u001b[38;5;124m\"\u001b[39m,l3)\n",
      "\u001b[1;31mIndexError\u001b[0m: list index out of range"
     ]
    }
   ],
   "source": [
    "n=int(input(\"Enter size\"))\n",
    "l3=[]\n",
    "for i in range(n):\n",
    "    l3.append(int(input(\"enter element\")))\n",
    "x=int(input(\"enter first position here\"))\n",
    "x1=int(input(\"enter second position here\"))\n",
    "print(l3)\n",
    "l3[x],l3[x1]=l3[x1],l3[x]\n",
    "print(\"List is \",l3)"
   ]
  },
  {
   "cell_type": "markdown",
   "id": "56abf3c5",
   "metadata": {},
   "source": [
    "# 11 WAP to print an odd no.s of the list entered by user"
   ]
  },
  {
   "cell_type": "code",
   "execution_count": 10,
   "id": "1ab07740",
   "metadata": {},
   "outputs": [
    {
     "name": "stdout",
     "output_type": "stream",
     "text": [
      "1\n",
      "3\n",
      "5\n",
      "7\n",
      "9\n"
     ]
    }
   ],
   "source": [
    "n=int(input(\"Enter size here\"))\n",
    "l4=[]\n",
    "for i in range(n):\n",
    "    l4.append(int(input(\"enter element\")))\n",
    "for i in l4 :\n",
    "    if i%2!=0 :\n",
    "        print(i)"
   ]
  }
 ],
 "metadata": {
  "kernelspec": {
   "display_name": "Python 3",
   "language": "python",
   "name": "python3"
  },
  "language_info": {
   "codemirror_mode": {
    "name": "ipython",
    "version": 3
   },
   "file_extension": ".py",
   "mimetype": "text/x-python",
   "name": "python",
   "nbconvert_exporter": "python",
   "pygments_lexer": "ipython3",
   "version": "3.13.0"
  }
 },
 "nbformat": 4,
 "nbformat_minor": 5
}

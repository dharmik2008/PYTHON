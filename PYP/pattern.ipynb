{
 "cells": [
  {
   "cell_type": "markdown",
   "id": "c787a127-5a95-4e62-a745-4b2aa58b8458",
   "metadata": {},
   "source": [
    "# 1)"
   ]
  },
  {
   "cell_type": "code",
   "execution_count": 2,
   "id": "76180af9-0cce-40ba-9a25-97d51d4e843c",
   "metadata": {},
   "outputs": [
    {
     "name": "stdin",
     "output_type": "stream",
     "text": [
      "enter number here: 3\n"
     ]
    },
    {
     "name": "stdout",
     "output_type": "stream",
     "text": [
      "  * \n",
      " * * \n",
      "* * * \n"
     ]
    }
   ],
   "source": [
    "n=int(input(\"enter number here:\"))\n",
    "for i in range(0,n):\n",
    "    for j in range(0,n-i-1):\n",
    "        print(\"\",end=\" \")\n",
    "    for j in range(0,i+1):\n",
    "        print(\"*\",end=\" \")\n",
    "    print(\"\")"
   ]
  },
  {
   "cell_type": "markdown",
   "id": "51d442c1-3b28-4454-8096-495a9bc9b326",
   "metadata": {},
   "source": [
    "# 2)"
   ]
  },
  {
   "cell_type": "code",
   "execution_count": 3,
   "id": "a1fae762-e785-4133-b854-9be3b3474b71",
   "metadata": {},
   "outputs": [
    {
     "name": "stdin",
     "output_type": "stream",
     "text": [
      "enter number here: 4\n"
     ]
    },
    {
     "name": "stdout",
     "output_type": "stream",
     "text": [
      "   1 \n",
      "  2 2 \n",
      " 3 3 3 \n",
      "4 4 4 4 \n"
     ]
    }
   ],
   "source": [
    "n=int(input(\"enter number here:\"))\n",
    "for i in range(1,n+1):\n",
    "    for j in range(0,n-i):\n",
    "        print(\"\",end=\" \")\n",
    "    for j in range(1,i+1):\n",
    "        print(i,end=\" \")\n",
    "    print(\"\")"
   ]
  },
  {
   "cell_type": "markdown",
   "id": "60224b58-637b-450a-8ced-7b6d6c4cc597",
   "metadata": {},
   "source": [
    "# 3)"
   ]
  },
  {
   "cell_type": "code",
   "execution_count": 4,
   "id": "ccabea62-e1d6-4504-a8f7-d81f1ce607c6",
   "metadata": {},
   "outputs": [
    {
     "name": "stdin",
     "output_type": "stream",
     "text": [
      "enter number here: 5\n"
     ]
    },
    {
     "name": "stdout",
     "output_type": "stream",
     "text": [
      "    A \n",
      "   B C \n",
      "  D E F \n",
      " G H I J \n",
      "K L M N O \n"
     ]
    }
   ],
   "source": [
    "n=int(input(\"enter number here:\"))\n",
    "k=65\n",
    "for i in range(1,n+1):\n",
    "    for j in range(0,n-i):\n",
    "        print(\"\",end=\" \")\n",
    "    for j in range(1,i+1):\n",
    "        print(chr(k),end=\" \")\n",
    "        k=k+1\n",
    "    print(\"\")"
   ]
  },
  {
   "cell_type": "markdown",
   "id": "d8d92577-2414-49d2-bdcb-504cdd85054e",
   "metadata": {},
   "source": [
    "# 4)"
   ]
  },
  {
   "cell_type": "code",
   "execution_count": 5,
   "id": "d43167d9-7dcb-4485-b34c-ac50608edc55",
   "metadata": {},
   "outputs": [
    {
     "name": "stdin",
     "output_type": "stream",
     "text": [
      "enter number here: 5\n"
     ]
    },
    {
     "name": "stdout",
     "output_type": "stream",
     "text": [
      "* * * * * \n",
      " * * * * \n",
      "  * * * \n",
      "   * * \n",
      "    * \n"
     ]
    }
   ],
   "source": [
    "n=int(input(\"enter number here:\"))\n",
    "for i in range(n,0,-1):\n",
    "    for j in range(n-i,0,-1):\n",
    "        print(\"\",end=\" \")\n",
    "    for j in range(1,i+1):\n",
    "        print(\"*\",end=\" \")\n",
    "    print(\"\")"
   ]
  },
  {
   "cell_type": "code",
   "execution_count": null,
   "id": "af38d3b8-ccb0-4325-94a0-4af0c0eba38c",
   "metadata": {},
   "outputs": [],
   "source": []
  }
 ],
 "metadata": {
  "kernelspec": {
   "display_name": "Python 3 (ipykernel)",
   "language": "python",
   "name": "python3"
  },
  "language_info": {
   "codemirror_mode": {
    "name": "ipython",
    "version": 3
   },
   "file_extension": ".py",
   "mimetype": "text/x-python",
   "name": "python",
   "nbconvert_exporter": "python",
   "pygments_lexer": "ipython3",
   "version": "3.13.0"
  }
 },
 "nbformat": 4,
 "nbformat_minor": 5
}

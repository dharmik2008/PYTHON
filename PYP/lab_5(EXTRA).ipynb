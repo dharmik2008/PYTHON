{
 "cells": [
  {
   "cell_type": "markdown",
   "id": "24eb2730",
   "metadata": {},
   "source": [
    "### 1. WAP to find out duplicate characters in given string."
   ]
  },
  {
   "cell_type": "code",
   "execution_count": 31,
   "id": "5bc27fbb",
   "metadata": {},
   "outputs": [
    {
     "name": "stdin",
     "output_type": "stream",
     "text": [
      "Enter string hello\n"
     ]
    },
    {
     "name": "stdout",
     "output_type": "stream",
     "text": [
      "your duplicate value is: l\n"
     ]
    }
   ],
   "source": [
    "a=input(\"Enter string\")\n",
    "temp=a.lower()\n",
    "for i in a:\n",
    "    temp=temp.replace(i,\"\",1)\n",
    "    if i in temp:\n",
    "        print(\"your duplicate value is:\",i)\n",
    "        temp=temp.replace(i,\"\")"
   ]
  },
  {
   "cell_type": "markdown",
   "id": "619bfe31",
   "metadata": {},
   "source": [
    "### 2. WAP to capitalize the first and last character of each word in a string."
   ]
  },
  {
   "cell_type": "code",
   "execution_count": 19,
   "id": "fd20933f",
   "metadata": {},
   "outputs": [
    {
     "name": "stdin",
     "output_type": "stream",
     "text": [
      "Enter a String hello how are you\n"
     ]
    },
    {
     "name": "stdout",
     "output_type": "stream",
     "text": [
      "HellO HoW ArE YoU "
     ]
    }
   ],
   "source": [
    "str=input(\"Enter a String\")\n",
    "s1=str.split(\" \")\n",
    "for i in s1:\n",
    "    n=i[0].upper()+i[1:-1]+i[-1].upper()\n",
    "    print(n,end=\" \")"
   ]
  },
  {
   "cell_type": "markdown",
   "id": "15186009",
   "metadata": {},
   "source": [
    "### 3. WAP to check if a given string is binary string or not using One line logic."
   ]
  },
  {
   "cell_type": "code",
   "execution_count": 40,
   "id": "70663da5",
   "metadata": {},
   "outputs": [
    {
     "name": "stdin",
     "output_type": "stream",
     "text": [
      "Enter a number 01 123\n"
     ]
    },
    {
     "name": "stdout",
     "output_type": "stream",
     "text": [
      "Non Binary String\n"
     ]
    }
   ],
   "source": [
    "a=input(\"Enter a number\")\n",
    "if len(a)==(a.count('0')+a.count('1')):\n",
    "    print(\"Binary String\")\n",
    "else:\n",
    "    print(\"Non Binary String\")"
   ]
  },
  {
   "cell_type": "markdown",
   "id": "4507cd60",
   "metadata": {},
   "source": [
    "### 4. Accept two integers from the user and calculate the sum of last digits of both the integers. For example, if the numbers are 27 and 459, then the sum of last digits would be 16 (i.e. 7 + 9)."
   ]
  },
  {
   "cell_type": "code",
   "execution_count": 3,
   "id": "67865548",
   "metadata": {},
   "outputs": [
    {
     "name": "stdin",
     "output_type": "stream",
     "text": [
      "Enter a number 123\n",
      "Enter a number 126\n"
     ]
    },
    {
     "name": "stdout",
     "output_type": "stream",
     "text": [
      "sum of last digit= 9\n"
     ]
    }
   ],
   "source": [
    "n1=int(input(\"Enter a number\"))\n",
    "n2=int(input(\"Enter a number\"))\n",
    "print(\"sum of last digit=\",n1%10+n2%10)"
   ]
  },
  {
   "cell_type": "markdown",
   "id": "775ef536",
   "metadata": {},
   "source": [
    "### 5. WAP to remove a ith digit from last in the given number."
   ]
  },
  {
   "cell_type": "code",
   "execution_count": 23,
   "id": "0f164391",
   "metadata": {},
   "outputs": [
    {
     "name": "stdin",
     "output_type": "stream",
     "text": [
      "Enter a number 1234\n",
      "Enter a number 2\n"
     ]
    },
    {
     "name": "stdout",
     "output_type": "stream",
     "text": [
      "124\n"
     ]
    }
   ],
   "source": [
    "n1=input(\"Enter a number\")\n",
    "n2=int(input(\"Enter a number\"))\n",
    "print(int(n1[:n2]+n1[n2+1:]))"
   ]
  },
  {
   "cell_type": "markdown",
   "id": "9d11a3bc",
   "metadata": {},
   "source": [
    "### 6. WAP to find a total odd and total even digit of a given number."
   ]
  },
  {
   "cell_type": "code",
   "execution_count": 24,
   "id": "0bee43fd",
   "metadata": {},
   "outputs": [
    {
     "name": "stdin",
     "output_type": "stream",
     "text": [
      "Enter number 123456\n"
     ]
    },
    {
     "name": "stdout",
     "output_type": "stream",
     "text": [
      "Sum of odd number 9 sum of even number 12\n"
     ]
    }
   ],
   "source": [
    "odd=0\n",
    "even=0\n",
    "a=input(\"Enter number\")\n",
    "for i in a:\n",
    "    if int(i)%2==0:\n",
    "        even+=int(i)\n",
    "    else:\n",
    "        odd+=int(i)\n",
    "print(\"Sum of odd number\",odd,\"sum of even number\",even)"
   ]
  },
  {
   "cell_type": "markdown",
   "id": "85cc5167",
   "metadata": {},
   "source": [
    "### 7. WAP to find whether a number is Odd or Even without using a % operator."
   ]
  },
  {
   "cell_type": "code",
   "execution_count": 30,
   "id": "7da19d40",
   "metadata": {},
   "outputs": [
    {
     "name": "stdin",
     "output_type": "stream",
     "text": [
      "Enter n: 1234\n"
     ]
    },
    {
     "name": "stdout",
     "output_type": "stream",
     "text": [
      "Even\n",
      "Even\n"
     ]
    }
   ],
   "source": [
    "n=int(input(\"Enter n:\"))\n",
    "print(\"Odd\" if n&1==1 else \"Even\")\n",
    "#OR\n",
    "while(n>=0):\n",
    "    n-=2\n",
    "print(\"Odd\" if n==1 or n==-1 else \"Even\")"
   ]
  },
  {
   "cell_type": "markdown",
   "id": "c63a11b7",
   "metadata": {},
   "source": [
    "### 8. WAP to convert a Binary to Decimal."
   ]
  },
  {
   "cell_type": "code",
   "execution_count": null,
   "id": "b609881b",
   "metadata": {},
   "outputs": [],
   "source": []
  },
  {
   "cell_type": "markdown",
   "id": "31b8405f",
   "metadata": {},
   "source": [
    "### 9. WAP to convert a Decimal to Binary."
   ]
  },
  {
   "cell_type": "code",
   "execution_count": null,
   "id": "301fa64b",
   "metadata": {},
   "outputs": [],
   "source": []
  },
  {
   "cell_type": "markdown",
   "id": "d5bf21fe",
   "metadata": {},
   "source": [
    "### 10. W.A.P. to print series 1, 3, 6, 10, 15,....."
   ]
  },
  {
   "cell_type": "code",
   "execution_count": null,
   "id": "8defeb90",
   "metadata": {},
   "outputs": [],
   "source": []
  },
  {
   "cell_type": "markdown",
   "id": "afb4eae9",
   "metadata": {},
   "source": [
    "### 11. Accept three integer values from the user and display them in ascending order using only arithmetic operators and ternary operator."
   ]
  },
  {
   "cell_type": "code",
   "execution_count": null,
   "id": "5ed840e7",
   "metadata": {},
   "outputs": [],
   "source": [
    "a=20\n",
    "b=10\n",
    "c=30\n",
    "big="
   ]
  },
  {
   "cell_type": "markdown",
   "id": "d6b6a583",
   "metadata": {},
   "source": [
    "### 12. Print right-aligned pyramid of stars: n=5\n",
    "<pre>\n",
    "    *\n",
    "   **\n",
    "  ***\n",
    " ****\n",
    "*****\n",
    "</pre>\n"
   ]
  },
  {
   "cell_type": "code",
   "execution_count": null,
   "id": "f9058543",
   "metadata": {},
   "outputs": [],
   "source": []
  },
  {
   "cell_type": "markdown",
   "id": "df426e14",
   "metadata": {},
   "source": [
    "### 13. Print centered pyramid of stars: n=5\n",
    "<pre>\n",
    "         *     \n",
    "        * *    \n",
    "       * * *   \n",
    "      * * * *  \n",
    "     * * * * *\n",
    "</pre>\n"
   ]
  },
  {
   "cell_type": "code",
   "execution_count": 32,
   "id": "79bb9d37",
   "metadata": {},
   "outputs": [
    {
     "name": "stdin",
     "output_type": "stream",
     "text": [
      "enter number here: 5\n"
     ]
    },
    {
     "name": "stdout",
     "output_type": "stream",
     "text": [
      "    * \n",
      "   * * \n",
      "  * * * \n",
      " * * * * \n",
      "* * * * * \n"
     ]
    }
   ],
   "source": [
    "n=int(input(\"enter number here:\"))\n",
    "for i in range(0,n):\n",
    "    for j in range(0,n-i-1):\n",
    "        print(\"\",end=\" \")\n",
    "    for j in range(0,i+1):\n",
    "        print(\"*\",end=\" \")\n",
    "    print(\"\")"
   ]
  },
  {
   "cell_type": "markdown",
   "id": "ac7a9306",
   "metadata": {},
   "source": [
    "### 14. Print hollow square pattern: n=5\n",
    "<pre>\n",
    "    * * * * * \n",
    "    *       * \n",
    "    *       * \n",
    "    *       * \n",
    "    * * * * * \n",
    "</pre>\n"
   ]
  },
  {
   "cell_type": "code",
   "execution_count": null,
   "id": "899dacaa",
   "metadata": {},
   "outputs": [],
   "source": []
  },
  {
   "cell_type": "markdown",
   "id": "793c24ea",
   "metadata": {},
   "source": [
    "### 15. Print X pattern: n=5\n",
    "<pre>\n",
    "    * * * * * \n",
    "    * *   * * \n",
    "    *   *   * \n",
    "    * *   * * \n",
    "    * * * * * \n",
    "</pre>\n"
   ]
  },
  {
   "cell_type": "code",
   "execution_count": null,
   "id": "23d78590",
   "metadata": {},
   "outputs": [],
   "source": []
  }
 ],
 "metadata": {
  "kernelspec": {
   "display_name": "Python 3 (ipykernel)",
   "language": "python",
   "name": "python3"
  },
  "language_info": {
   "codemirror_mode": {
    "name": "ipython",
    "version": 3
   },
   "file_extension": ".py",
   "mimetype": "text/x-python",
   "name": "python",
   "nbconvert_exporter": "python",
   "pygments_lexer": "ipython3",
   "version": "3.13.0"
  }
 },
 "nbformat": 4,
 "nbformat_minor": 5
}

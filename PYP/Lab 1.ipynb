{
 "cells": [
  {
   "cell_type": "markdown",
   "metadata": {},
   "source": [
    "# 1) print hello world"
   ]
  },
  {
   "cell_type": "code",
   "execution_count": 6,
   "metadata": {},
   "outputs": [
    {
     "name": "stdout",
     "output_type": "stream",
     "text": [
      "hello world\n"
     ]
    }
   ],
   "source": [
    "print ('hello world');\n"
   ]
  },
  {
   "cell_type": "markdown",
   "metadata": {},
   "source": [
    "# 2. WAP to print your address using single line print and multiline print"
   ]
  },
  {
   "cell_type": "code",
   "execution_count": 1,
   "metadata": {},
   "outputs": [
    {
     "name": "stdout",
     "output_type": "stream",
     "text": [
      "Darshan University Rajkot-Morbi Highway\n",
      "Darshan Univeristy\n",
      "Rajkot-Morbi Highway\n"
     ]
    }
   ],
   "source": [
    "print ('Darshan University','Rajkot-Morbi Highway');\n",
    "print ('Darshan Univeristy');\n",
    "print ('Rajkot-Morbi Highway');"
   ]
  },
  {
   "cell_type": "markdown",
   "metadata": {},
   "source": [
    "# 3. WAP to print addition of two numbers without input function"
   ]
  },
  {
   "cell_type": "code",
   "execution_count": 2,
   "metadata": {},
   "outputs": [
    {
     "name": "stdout",
     "output_type": "stream",
     "text": [
      "15\n"
     ]
    }
   ],
   "source": [
    "a=5;\n",
    "b=10;\n",
    "print (a+b);"
   ]
  },
  {
   "cell_type": "markdown",
   "metadata": {},
   "source": [
    "# 4.  WAP to print average of two numbers without input function"
   ]
  },
  {
   "cell_type": "code",
   "execution_count": 11,
   "metadata": {},
   "outputs": [
    {
     "name": "stdout",
     "output_type": "stream",
     "text": [
      "7.5\n"
     ]
    }
   ],
   "source": [
    "a=5;\n",
    "b=10;\n",
    "print ((a+b)/2);"
   ]
  },
  {
   "cell_type": "markdown",
   "metadata": {},
   "source": [
    "# 5.  WAP to print addition of two numbers with input function"
   ]
  },
  {
   "cell_type": "code",
   "execution_count": 14,
   "metadata": {},
   "outputs": [
    {
     "name": "stdout",
     "output_type": "stream",
     "text": [
      "enter value of a5\n",
      "enter value of b10\n",
      "addition of a and b is 15\n"
     ]
    }
   ],
   "source": [
    "a=int(input(\"enter value of a\"))\n",
    "b=int(input(\"enter value of b\"))\n",
    "print (\"addition of a and b is\",a+b)"
   ]
  },
  {
   "cell_type": "markdown",
   "metadata": {},
   "source": [
    "# 6. WAP to print area of circle"
   ]
  },
  {
   "cell_type": "code",
   "execution_count": 15,
   "metadata": {},
   "outputs": [
    {
     "name": "stdout",
     "output_type": "stream",
     "text": [
      "enter value of radius1\n",
      "area of circle is 3.14\n"
     ]
    }
   ],
   "source": [
    "r=float(input(\"enter value of radius\"))\n",
    "print (\"area of circle is\",r*r*3.14)"
   ]
  },
  {
   "cell_type": "markdown",
   "metadata": {},
   "source": [
    "# 7. WAP to take marks of 4 subjects and print its total and percentage\n"
   ]
  },
  {
   "cell_type": "code",
   "execution_count": 17,
   "metadata": {},
   "outputs": [
    {
     "name": "stdout",
     "output_type": "stream",
     "text": [
      "enter marks 140\n",
      "enter marks 250\n",
      "enter marks 360\n",
      "enter marks 450\n",
      "total marks =  200\n",
      "percentage = 50.0\n"
     ]
    }
   ],
   "source": [
    "a=int(input(\"enter marks 1\"))\n",
    "b=int(input(\"enter marks 2\"))\n",
    "c=int(input(\"enter marks 3\"))\n",
    "d=int(input(\"enter marks 4\"))\n",
    "print (\"total marks = \",a+b+c+d)\n",
    "print (\"percentage =\",(a+b+c+d)/400*100)"
   ]
  },
  {
   "cell_type": "markdown",
   "metadata": {},
   "source": [
    "# 8. WAP to print area of triangle\n"
   ]
  },
  {
   "cell_type": "code",
   "execution_count": 2,
   "metadata": {},
   "outputs": [
    {
     "name": "stdin",
     "output_type": "stream",
     "text": [
      "enter height of triangle 10\n",
      "enter base of triangle 10\n"
     ]
    },
    {
     "name": "stdout",
     "output_type": "stream",
     "text": [
      "area of triangle is  50.0\n"
     ]
    }
   ],
   "source": [
    "h=float(input(\"enter height of triangle\"))\n",
    "b=float(input(\"enter base of triangle\"))\n",
    "print (\"area of triangle is \",0.5*h*b)"
   ]
  },
  {
   "cell_type": "markdown",
   "metadata": {},
   "source": [
    "# 9. WAP to print area of rectangle"
   ]
  },
  {
   "cell_type": "code",
   "execution_count": 5,
   "metadata": {},
   "outputs": [
    {
     "name": "stdin",
     "output_type": "stream",
     "text": [
      "enter height of rectangle 10\n",
      "enter base of rectangle 10\n"
     ]
    },
    {
     "name": "stdout",
     "output_type": "stream",
     "text": [
      "area of rectangle is  100.0\n"
     ]
    }
   ],
   "source": [
    "l=float(input(\"enter height of rectangle\"))\n",
    "w=float(input(\"enter base of rectangle\"))\n",
    "print (\"area of rectangle is \",l*w)"
   ]
  },
  {
   "cell_type": "markdown",
   "metadata": {},
   "source": [
    "# 10. WAP to calculate simple interest\n"
   ]
  },
  {
   "cell_type": "code",
   "execution_count": 24,
   "metadata": {},
   "outputs": [
    {
     "name": "stdout",
     "output_type": "stream",
     "text": [
      "enter capital 10\n",
      "enter time 1\n",
      "enter interest 1\n",
      "your interest is  0.1\n"
     ]
    }
   ],
   "source": [
    "capital=float(input(\"enter capital \"))\n",
    "time=float(input(\"enter time \"))\n",
    "interest=float(input(\"enter interest \"))\n",
    "print (\"your interest is \",(capital*time*interest)/100)"
   ]
  },
  {
   "cell_type": "markdown",
   "metadata": {},
   "source": [
    "#  11. WAP to print multiplication of given number\n"
   ]
  },
  {
   "cell_type": "code",
   "execution_count": 27,
   "metadata": {},
   "outputs": [
    {
     "name": "stdout",
     "output_type": "stream",
     "text": [
      "enter a number5\n",
      "5 X 1 = 5\n",
      "5 X 2 = 10\n",
      "5 X 3 = 15\n",
      "5 X 4 = 20\n",
      "5 X 5 = 25\n",
      "5 X 6 = 30\n",
      "5 X 7 = 35\n",
      "5 X 8 = 40\n",
      "5 X 9 = 45\n",
      "5 X 10 = 50\n"
     ]
    }
   ],
   "source": [
    "a=int(input(\"enter a number\"))\n",
    "print (a,\"X 1 =\",a*1 )\n",
    "print (a,\"X 2 =\",a*2 )\n",
    "print (a,\"X 3 =\",a*3 )\n",
    "print (a,\"X 4 =\",a*4 )\n",
    "print (a,\"X 5 =\",a*5 )\n",
    "print (a,\"X 6 =\",a*6 )\n",
    "print (a,\"X 7 =\",a*7 )\n",
    "print (a,\"X 8 =\",a*8 )\n",
    "print (a,\"X 9 =\",a*9 )\n",
    "print (a,\"X 10 =\",a*10 )"
   ]
  },
  {
   "cell_type": "markdown",
   "metadata": {},
   "source": [
    "# 12. WAP to convert celcius to farenheit and vise versa\n"
   ]
  },
  {
   "cell_type": "code",
   "execution_count": 34,
   "metadata": {},
   "outputs": [
    {
     "name": "stdout",
     "output_type": "stream",
     "text": [
      "enter celcius10\n",
      "celcius to farehniet =  50.0\n",
      "enter farehneit50\n",
      "farehniet to celcius =  10.0\n"
     ]
    }
   ],
   "source": [
    "a=int(input(\"enter celcius\"))\n",
    "print (\"celcius to farehniet = \", (9*a/5)+32)\n",
    "b=int(input(\"enter farehneit\"))\n",
    "print (\"farehniet to celcius = \",(b-32)*5/9)\n"
   ]
  }
 ],
 "metadata": {
  "kernelspec": {
   "display_name": "Python 3 (ipykernel)",
   "language": "python",
   "name": "python3"
  },
  "language_info": {
   "codemirror_mode": {
    "name": "ipython",
    "version": 3
   },
   "file_extension": ".py",
   "mimetype": "text/x-python",
   "name": "python",
   "nbconvert_exporter": "python",
   "pygments_lexer": "ipython3",
   "version": "3.13.0"
  }
 },
 "nbformat": 4,
 "nbformat_minor": 4
}

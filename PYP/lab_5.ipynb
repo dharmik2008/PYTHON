{
 "cells": [
  {
   "cell_type": "markdown",
   "metadata": {},
   "source": [
    "# 1 WAP to find the sum of all elements of List"
   ]
  },
  {
   "cell_type": "code",
   "execution_count": 3,
   "metadata": {},
   "outputs": [
    {
     "name": "stdout",
     "output_type": "stream",
     "text": [
      "Enter size here3\n",
      "Enter element1\n",
      "Enter element5\n",
      "Enter element1\n",
      "Sum is 7\n"
     ]
    }
   ],
   "source": [
    "n=int(input(\"Enter size here\"))\n",
    "l1=[]\n",
    "total=0\n",
    "for i in range(n):\n",
    "    l1.append(int(input(\"Enter element\")))\n",
    "    total+=l1[i]\n",
    "print(\"Sum is\",total)"
   ]
  },
  {
   "cell_type": "markdown",
   "metadata": {},
   "source": [
    "# 2 WAP to find smallest and largest element from list"
   ]
  },
  {
   "cell_type": "code",
   "execution_count": 19,
   "metadata": {},
   "outputs": [
    {
     "name": "stdout",
     "output_type": "stream",
     "text": [
      "Total size here3\n",
      "Enter element :1\n",
      "Enter element :2\n",
      "Enter element :6\n",
      "Element list [1, 2, 6]\n",
      "Largest is 6\n",
      "smallest is 1\n"
     ]
    }
   ],
   "source": [
    "n=int(input(\"Total size here\"))\n",
    "l2=[]\n",
    "for i in range(n):\n",
    "    l2.append(int(input(\"Enter element :\")))\n",
    "for i in range(n):\n",
    "    if(i==0):\n",
    "        largest=l2[i]\n",
    "        smallest=l2[i]\n",
    "    elif(l2[i]>largest):\n",
    "        largest=l2[i]\n",
    "    elif (l2[i]<smallest) :\n",
    "        smallest=l2[i]\n",
    "print(\"Element list\",l2)\n",
    "print(\"Largest is\",largest)\n",
    "print(\"smallest is\",smallest)"
   ]
  },
  {
   "cell_type": "code",
   "execution_count": 9,
   "metadata": {},
   "outputs": [
    {
     "name": "stdout",
     "output_type": "stream",
     "text": [
      "Total size here3\n",
      "Enter element :1\n",
      "Enter element :5\n",
      "Enter element :9\n",
      "Largest is  9\n",
      "smallest is 1\n"
     ]
    }
   ],
   "source": [
    "n=int(input(\"Total size here\"))\n",
    "l2=[]\n",
    "for i in range(n):\n",
    "    l2.append(int(input(\"Enter element :\")))\n",
    "    largest=max(l2)\n",
    "    smallest=min(l2)\n",
    "print(\"Largest is \",largest)\n",
    "print(\"smallest is\",smallest)"
   ]
  },
  {
   "cell_type": "markdown",
   "metadata": {},
   "source": [
    "# 3 WAP to take list from user and split into two parts and append first part at the end of second part"
   ]
  },
  {
   "cell_type": "code",
   "execution_count": 20,
   "metadata": {},
   "outputs": [
    {
     "name": "stdout",
     "output_type": "stream",
     "text": [
      "enter size here10\n",
      "Enter element :1\n",
      "Enter element :2\n",
      "Enter element :3\n",
      "Enter element :4\n",
      "Enter element :5\n",
      "Enter element :6\n",
      "Enter element :7\n",
      "Enter element :8\n",
      "Enter element :9\n",
      "Enter element :10\n",
      "[6, 7, 8, 9, 10, 1, 2, 3, 4, 5]\n"
     ]
    }
   ],
   "source": [
    "n=int(input(\"enter size here\"))\n",
    "l3=[]\n",
    "for i in range(n):\n",
    "     l3.append(int(input(\"Enter element :\")))\n",
    "\n",
    "        \n",
    "mid=len(l3)//2 \n",
    "l4=l3[:mid]\n",
    "l5=l3[mid:]\n",
    "l5.extend(l4)\n",
    "print(l5)"
   ]
  },
  {
   "cell_type": "markdown",
   "metadata": {},
   "source": [
    "# 4 WAP to interchange first and last element of list"
   ]
  },
  {
   "cell_type": "code",
   "execution_count": 10,
   "metadata": {},
   "outputs": [
    {
     "name": "stdout",
     "output_type": "stream",
     "text": [
      "Enter size3\n",
      "enter element1\n",
      "enter element7\n",
      "enter element9\n",
      "List is  [9, 7, 1]\n"
     ]
    }
   ],
   "source": [
    "size=int(input(\"Enter size\"))\n",
    "l3=[]\n",
    "for i in range(size):\n",
    "    l3.append(int(input(\"enter element\")))\n",
    "l3[0],l3[-1]=l3[-1],l3[0]\n",
    "print(\"List is \",l3)"
   ]
  },
  {
   "cell_type": "markdown",
   "metadata": {},
   "source": [
    "# 5 WAP to reverse the list entered by user"
   ]
  },
  {
   "cell_type": "code",
   "execution_count": 1,
   "metadata": {},
   "outputs": [
    {
     "name": "stdout",
     "output_type": "stream",
     "text": [
      "Enter size here3\n",
      "enter element3\n",
      "enter element2\n",
      "enter element1\n",
      "Reverse list [1, 2, 3]\n"
     ]
    }
   ],
   "source": [
    "n=int(input(\"Enter size here\"))\n",
    "l4=[]\n",
    "for i in range(n):\n",
    "    l4.append(int(input(\"enter element\")))\n",
    "rev_lst=l4[::-1]\n",
    "print(\"Reverse list\",rev_lst)"
   ]
  },
  {
   "cell_type": "markdown",
   "metadata": {},
   "source": [
    "# 6 WAP to print all even number of the list entered by user"
   ]
  },
  {
   "cell_type": "code",
   "execution_count": 4,
   "metadata": {},
   "outputs": [
    {
     "name": "stdout",
     "output_type": "stream",
     "text": [
      "Enter size here6\n",
      "enter element1\n",
      "enter element4\n",
      "enter element6\n",
      "enter element8\n",
      "enter element2\n",
      "enter element10\n",
      "4\n",
      "6\n",
      "8\n",
      "2\n",
      "10\n"
     ]
    }
   ],
   "source": [
    "n=int(input(\"Enter size here\"))\n",
    "l5=[]\n",
    "for i in range(n):\n",
    "    l5.append(int(input(\"enter element\")))\n",
    "for i in l5:\n",
    "    if i%2==0 :\n",
    "        print(i)"
   ]
  },
  {
   "cell_type": "markdown",
   "metadata": {},
   "source": [
    "# 7 WAP to search for an element in the list"
   ]
  },
  {
   "cell_type": "code",
   "execution_count": 15,
   "metadata": {},
   "outputs": [
    {
     "name": "stdout",
     "output_type": "stream",
     "text": [
      "Enter size here4\n",
      "enter element1\n",
      "enter element2\n",
      "enter element3\n",
      "enter element4\n",
      "Enter element you want to find3\n",
      "Found 2\n"
     ]
    }
   ],
   "source": [
    "n=int(input(\"Enter size here\"))\n",
    "l6=[]\n",
    "for i in range(n):\n",
    "    l6.append(int(input(\"enter element\")))\n",
    "x=int(input(\"Enter element you want to find\"))\n",
    "if x in l6:\n",
    "    print(\"Found\",l6.index(x))\n",
    "else :\n",
    "     print(\"Not found\")"
   ]
  },
  {
   "cell_type": "markdown",
   "metadata": {},
   "source": [
    "# 8 WAP to sort a list in asending  order"
   ]
  },
  {
   "cell_type": "code",
   "execution_count": 19,
   "metadata": {},
   "outputs": [
    {
     "name": "stdout",
     "output_type": "stream",
     "text": [
      "Enter size here4\n",
      "enter element4\n",
      "enter element3\n",
      "enter element2\n",
      "enter element1\n",
      "[1, 2, 3, 4]\n"
     ]
    }
   ],
   "source": [
    "n=int(input(\"Enter size here\"))\n",
    "l6=[]\n",
    "for i in range(n):\n",
    "    l6.append(int(input(\"enter element\")))\n",
    "l6.sort()\n",
    "print(l6)"
   ]
  },
  {
   "cell_type": "markdown",
   "metadata": {},
   "source": [
    "# 9 WAP to convert list of character entered by user into string"
   ]
  },
  {
   "cell_type": "code",
   "execution_count": 22,
   "metadata": {},
   "outputs": [
    {
     "name": "stdout",
     "output_type": "stream",
     "text": [
      "Enter size here5\n",
      "enter elementR\n",
      "enter elementU\n",
      "enter elementD\n",
      "enter elementR\n",
      "enter elementA\n",
      "['R', 'U', 'D', 'R', 'A']\n",
      "RUDRA\n"
     ]
    }
   ],
   "source": [
    "n=int(input(\"Enter size here\"))\n",
    "l6=[]\n",
    "for i in range(n):\n",
    "    l6.append(input(\"enter element\"))\n",
    "print(l6)\n",
    "print (\"\".join(l6))"
   ]
  },
  {
   "cell_type": "code",
   "execution_count": 24,
   "metadata": {},
   "outputs": [
    {
     "name": "stdout",
     "output_type": "stream",
     "text": [
      "Enter space sapereted characters :d a r s h a n \n",
      "['d', 'a', 'r', 's', 'h', 'a', 'n', '']\n",
      "darshan\n"
     ]
    }
   ],
   "source": [
    "s = input(\"Enter space sapereted characters :\")\n",
    "l6 = s.split(\" \")\n",
    "print(l6)\n",
    "print (\"\".join(l6))"
   ]
  },
  {
   "cell_type": "markdown",
   "metadata": {},
   "source": [
    "# 10 WAP to interchange the list element based on two positions entered by user"
   ]
  },
  {
   "cell_type": "code",
   "execution_count": 1,
   "metadata": {},
   "outputs": [
    {
     "name": "stdout",
     "output_type": "stream",
     "text": [
      "[1, 2, 3, 4, 5]\n"
     ]
    },
    {
     "ename": "IndexError",
     "evalue": "list index out of range",
     "output_type": "error",
     "traceback": [
      "\u001b[1;31m---------------------------------------------------------------------------\u001b[0m",
      "\u001b[1;31mIndexError\u001b[0m                                Traceback (most recent call last)",
      "Cell \u001b[1;32mIn[1], line 8\u001b[0m\n\u001b[0;32m      6\u001b[0m x1\u001b[38;5;241m=\u001b[39m\u001b[38;5;28mint\u001b[39m(\u001b[38;5;28minput\u001b[39m(\u001b[38;5;124m\"\u001b[39m\u001b[38;5;124menter second position here\u001b[39m\u001b[38;5;124m\"\u001b[39m))\n\u001b[0;32m      7\u001b[0m \u001b[38;5;28mprint\u001b[39m(l3)\n\u001b[1;32m----> 8\u001b[0m l3[x],l3[x1]\u001b[38;5;241m=\u001b[39m\u001b[43ml3\u001b[49m\u001b[43m[\u001b[49m\u001b[43mx1\u001b[49m\u001b[43m]\u001b[49m,l3[x]\n\u001b[0;32m      9\u001b[0m \u001b[38;5;28mprint\u001b[39m(\u001b[38;5;124m\"\u001b[39m\u001b[38;5;124mList is \u001b[39m\u001b[38;5;124m\"\u001b[39m,l3)\n",
      "\u001b[1;31mIndexError\u001b[0m: list index out of range"
     ]
    }
   ],
   "source": [
    "n=int(input(\"Enter size\"))\n",
    "l3=[]\n",
    "for i in range(n):\n",
    "    l3.append(int(input(\"enter element\")))\n",
    "x=int(input(\"enter first position here\"))\n",
    "x1=int(input(\"enter second position here\"))\n",
    "print(l3)\n",
    "l3[x],l3[x1]=l3[x1],l3[x]\n",
    "print(\"List is \",l3)"
   ]
  },
  {
   "cell_type": "markdown",
   "metadata": {},
   "source": [
    "# 11 WAP to print an odd no.s of the list entered by user"
   ]
  },
  {
   "cell_type": "code",
   "execution_count": 6,
   "metadata": {},
   "outputs": [
    {
     "name": "stdout",
     "output_type": "stream",
     "text": [
      "Enter size here4\n",
      "enter element2\n",
      "enter element3\n",
      "enter element4\n",
      "enter element7\n",
      "3\n",
      "7\n"
     ]
    }
   ],
   "source": [
    "n=int(input(\"Enter size here\"))\n",
    "l4=[]\n",
    "for i in range(n):\n",
    "    l4.append(int(input(\"enter element\")))\n",
    "for i in l4 :\n",
    "    if i%2!=0 :\n",
    "        print(i)"
   ]
  },
  {
   "cell_type": "markdown",
   "metadata": {},
   "source": [
    "# 12 WAP to enter name,quantity,and price of 5 products by user. \n",
    "## Generate and print all the details with the product total amount in fomatted manner using list"
   ]
  },
  {
   "cell_type": "code",
   "execution_count": null,
   "metadata": {},
   "outputs": [],
   "source": [
    "name=[]\n",
    "quantity"
   ]
  }
 ],
 "metadata": {
  "kernelspec": {
   "display_name": "Python 3 (ipykernel)",
   "language": "python",
   "name": "python3"
  },
  "language_info": {
   "codemirror_mode": {
    "name": "ipython",
    "version": 3
   },
   "file_extension": ".py",
   "mimetype": "text/x-python",
   "name": "python",
   "nbconvert_exporter": "python",
   "pygments_lexer": "ipython3",
   "version": "3.13.0"
  }
 },
 "nbformat": 4,
 "nbformat_minor": 4
}

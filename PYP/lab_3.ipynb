{
 "cells": [
  {
   "cell_type": "markdown",
   "id": "0f200d28-e989-4d40-b1fd-642eec45e711",
   "metadata": {},
   "source": [
    "# 1) wap to print 1 to N using for and while loop."
   ]
  },
  {
   "cell_type": "code",
   "execution_count": 1,
   "id": "177ec3fc-9b08-4507-9c6f-20c9d75a3921",
   "metadata": {},
   "outputs": [
    {
     "name": "stdin",
     "output_type": "stream",
     "text": [
      "enter a number 5\n"
     ]
    },
    {
     "name": "stdout",
     "output_type": "stream",
     "text": [
      "for loop\n",
      "1\n",
      "2\n",
      "3\n",
      "4\n",
      "5\n",
      "while loop\n",
      "1\n",
      "2\n",
      "3\n",
      "4\n",
      "5\n"
     ]
    }
   ],
   "source": [
    "n=int(input(\"enter a number\"))\n",
    "print (\"for loop\")\n",
    "i=0\n",
    "for i in range(1,n+1):\n",
    "    print (i)\n",
    "print (\"while loop\")\n",
    "i=1\n",
    "while i<=n:\n",
    "    print (i)\n",
    "    i=i+1"
   ]
  },
  {
   "cell_type": "markdown",
   "id": "4c591bb6-7181-406b-9cb7-c0ce5fc60830",
   "metadata": {},
   "source": [
    "# 2)wap to print sum of 1 to N numbers using for and while loop"
   ]
  },
  {
   "cell_type": "code",
   "execution_count": 5,
   "id": "c47ed871-487d-46ec-a16f-3763b29cf73d",
   "metadata": {},
   "outputs": [
    {
     "name": "stdin",
     "output_type": "stream",
     "text": [
      "enter a number 5\n"
     ]
    },
    {
     "name": "stdout",
     "output_type": "stream",
     "text": [
      "with while loop\n",
      "15\n",
      "with for loop\n",
      "15\n"
     ]
    }
   ],
   "source": [
    "n=int(input(\"enter a number\"))\n",
    "print (\"with while loop\")\n",
    "i=1\n",
    "sum=0\n",
    "while (i<=n):\n",
    "    sum+=i\n",
    "    i+=1\n",
    "print (sum)\n",
    "sum=0\n",
    "print (\"with for loop\")\n",
    "for i in range(1,n+1):\n",
    "    sum+=i\n",
    "print (sum)"
   ]
  },
  {
   "cell_type": "markdown",
   "id": "0356bde6-09b4-459b-97d3-9a2168e4d7ce",
   "metadata": {},
   "source": [
    "# 3)wap to print factorial of number"
   ]
  },
  {
   "cell_type": "code",
   "execution_count": 6,
   "id": "50a04525-b884-4b42-87fe-fc74a865b3cd",
   "metadata": {},
   "outputs": [
    {
     "name": "stdin",
     "output_type": "stream",
     "text": [
      "enter a number 5\n"
     ]
    },
    {
     "name": "stdout",
     "output_type": "stream",
     "text": [
      "120\n"
     ]
    }
   ],
   "source": [
    "n=int(input(\"enter a number\"))\n",
    "fact=1\n",
    "for i in range(1,n+1):\n",
    "    fact*=i\n",
    "print (fact)"
   ]
  },
  {
   "cell_type": "markdown",
   "id": "c5878376-4be7-4d97-8e9c-233662d5f912",
   "metadata": {},
   "source": [
    "# 4)wap to print even numbers between two numbers"
   ]
  },
  {
   "cell_type": "code",
   "execution_count": 10,
   "id": "587215bd-5f7e-4429-bbcb-0d9b759135b5",
   "metadata": {},
   "outputs": [
    {
     "name": "stdin",
     "output_type": "stream",
     "text": [
      "enter value of a 1\n",
      "enter valus of b 10\n"
     ]
    },
    {
     "name": "stdout",
     "output_type": "stream",
     "text": [
      "2\n",
      "4\n",
      "6\n",
      "8\n"
     ]
    }
   ],
   "source": [
    "a=int(input(\"enter value of a\"))\n",
    "b=int(input(\"enter valus of b\"))\n",
    "for i in range(a+1,b):\n",
    "    if (i%2==0):\n",
    "        print (i)"
   ]
  },
  {
   "cell_type": "markdown",
   "id": "af6ae6d5-7e03-4c1e-a64a-2ed4e63473dc",
   "metadata": {},
   "source": [
    "# 5)wap to find whethr given numbers is prime or not"
   ]
  },
  {
   "cell_type": "code",
   "execution_count": 6,
   "id": "83ea1677-a922-488b-b9c1-dec3a3638b3c",
   "metadata": {},
   "outputs": [
    {
     "name": "stdin",
     "output_type": "stream",
     "text": [
      "enter a number 7\n"
     ]
    },
    {
     "name": "stdout",
     "output_type": "stream",
     "text": [
      "prime\n"
     ]
    }
   ],
   "source": [
    "a=int(input(\"enter a number\"))\n",
    "for i in range(2,a):\n",
    "    if(a%i==0):\n",
    "        print(\"non prime\")\n",
    "        break\n",
    "else:\n",
    "    print(\"prime\")"
   ]
  },
  {
   "cell_type": "markdown",
   "id": "63fe84eb-90da-49c3-b152-3dced72614b3",
   "metadata": {},
   "source": [
    "# 6)wap to print sum of digits of the given numbers"
   ]
  },
  {
   "cell_type": "code",
   "execution_count": 15,
   "id": "2080d831-268b-4057-ae37-37f1c8d942df",
   "metadata": {},
   "outputs": [
    {
     "name": "stdin",
     "output_type": "stream",
     "text": [
      "enter a number: 123\n"
     ]
    },
    {
     "name": "stdout",
     "output_type": "stream",
     "text": [
      "6\n"
     ]
    }
   ],
   "source": [
    "a=int(input(\"enter a number:\"))\n",
    "sum=0\n",
    "while(a!=0):\n",
    "    sum=sum+(a%10)\n",
    "    a=a//10\n",
    "print (sum)"
   ]
  },
  {
   "cell_type": "markdown",
   "id": "655b7b9b-516f-497d-8172-3fa2303548e2",
   "metadata": {},
   "source": [
    "# 7)wap to print multiplication table of the given number"
   ]
  },
  {
   "cell_type": "code",
   "execution_count": 18,
   "id": "46cae53a-159e-458e-803b-435a74b24bb6",
   "metadata": {},
   "outputs": [
    {
     "name": "stdin",
     "output_type": "stream",
     "text": [
      "enter a number 10\n"
     ]
    },
    {
     "name": "stdout",
     "output_type": "stream",
     "text": [
      "10 x 1 = 10\n",
      "10 x 2 = 20\n",
      "10 x 3 = 30\n",
      "10 x 4 = 40\n",
      "10 x 5 = 50\n",
      "10 x 6 = 60\n",
      "10 x 7 = 70\n",
      "10 x 8 = 80\n",
      "10 x 9 = 90\n",
      "10 x 10 = 100\n"
     ]
    }
   ],
   "source": [
    "n=int(input(\"enter a number\"))\n",
    "for i in range(1,11):\n",
    "    print (n,\"x\",i,\"=\",i*n)"
   ]
  },
  {
   "cell_type": "markdown",
   "id": "d2bb984b-f0fa-42c0-a650-9be693c77f3e",
   "metadata": {},
   "source": [
    "# 8)wap to print sum of the series for given number(1,4,9,16,25)"
   ]
  },
  {
   "cell_type": "code",
   "execution_count": 20,
   "id": "77b885bd-d66e-45f2-a298-31abbfa75fe5",
   "metadata": {},
   "outputs": [
    {
     "name": "stdin",
     "output_type": "stream",
     "text": [
      "enter a number 3\n"
     ]
    },
    {
     "name": "stdout",
     "output_type": "stream",
     "text": [
      "14\n"
     ]
    }
   ],
   "source": [
    "a=int(input(\"enter a number\"))\n",
    "ans=0\n",
    "for i in range(1,a+1):\n",
    "    ans=ans+(i*i)\n",
    "print (ans)"
   ]
  },
  {
   "cell_type": "markdown",
   "id": "0cf6573a-5e15-4e12-ac98-30dc16487b4d",
   "metadata": {},
   "source": [
    "# 9)wap to print answer of series for given number"
   ]
  },
  {
   "cell_type": "code",
   "execution_count": 1,
   "id": "3037da86-c872-48cc-b228-bc7a297a8a74",
   "metadata": {},
   "outputs": [
    {
     "name": "stdin",
     "output_type": "stream",
     "text": [
      "enter any number 5\n"
     ]
    },
    {
     "name": "stdout",
     "output_type": "stream",
     "text": [
      "3\n"
     ]
    }
   ],
   "source": [
    "n=int(input(\"enter any number\"))\n",
    "sum=0\n",
    "for i in range(1,n+1):\n",
    "    if i%2==0:\n",
    "        sum=sum-i\n",
    "    else:\n",
    "        sum=sum+i\n",
    "print(sum)"
   ]
  },
  {
   "cell_type": "markdown",
   "id": "ef6679ec-e735-49d4-a847-c49e1428c8cf",
   "metadata": {},
   "source": [
    "# 10) wap to find out prime between given two number"
   ]
  },
  {
   "cell_type": "code",
   "execution_count": 2,
   "id": "4798a951-73f9-4626-974d-6940314e4916",
   "metadata": {},
   "outputs": [
    {
     "name": "stdin",
     "output_type": "stream",
     "text": [
      "enter any number: 10\n",
      "enter any number: 20\n"
     ]
    },
    {
     "name": "stdout",
     "output_type": "stream",
     "text": [
      "11 is a Prime number\n",
      "13 is a Prime number\n",
      "17 is a Prime number\n",
      "19 is a Prime number\n"
     ]
    }
   ],
   "source": [
    "n1=int(input(\"enter any number:\"))\n",
    "n2=int(input(\"enter any number:\"))\n",
    "for i in range(n1+1,n2):\n",
    "    for j in range(2,i):\n",
    "        if i%j==0:\n",
    "            break\n",
    "    else:\n",
    "        print(i,\"is a Prime number\")"
   ]
  }
 ],
 "metadata": {
  "kernelspec": {
   "display_name": "Python 3 (ipykernel)",
   "language": "python",
   "name": "python3"
  },
  "language_info": {
   "codemirror_mode": {
    "name": "ipython",
    "version": 3
   },
   "file_extension": ".py",
   "mimetype": "text/x-python",
   "name": "python",
   "nbconvert_exporter": "python",
   "pygments_lexer": "ipython3",
   "version": "3.13.0"
  }
 },
 "nbformat": 4,
 "nbformat_minor": 5
}

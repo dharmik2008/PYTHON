{
 "cells": [
  {
   "cell_type": "markdown",
   "id": "50b68869-20d8-4098-822d-b3fe412893cb",
   "metadata": {},
   "source": [
    "#  write a python function to find the maximum of three numbers.\n"
   ]
  },
  {
   "cell_type": "code",
   "execution_count": 2,
   "id": "cc785309-fcb9-4347-8b4d-b8274622bfcf",
   "metadata": {},
   "outputs": [
    {
     "name": "stdout",
     "output_type": "stream",
     "text": [
      "Enter first number:  10\n",
      "Enter second number:  20\n",
      "Enter third number:  40\n"
     ]
    },
    {
     "name": "stdout",
     "output_type": "stream",
     "text": [
      "Maximum of three numbers is:  40\n"
     ]
    }
   ],
   "source": [
    "def max_of_three(a, b, c):\n",
    "    if a > b and a > c:\n",
    "        return a\n",
    "    elif b > a and b > c:\n",
    "        return b\n",
    "    else:\n",
    "        return c\n",
    "    \n",
    "a=int(input(\"Enter first number: \"))\n",
    "b=int(input(\"Enter second number: \"))\n",
    "c=int(input(\"Enter third number: \"))\n",
    "print(\"Maximum of three numbers is: \", max_of_three(a, b, c))"
   ]
  },
  {
   "cell_type": "markdown",
   "id": "5e16e4f5-1a89-45df-9b5c-bfe725c5be49",
   "metadata": {},
   "source": [
    "# write a python function to find the area of circle using default radius=5.\n"
   ]
  },
  {
   "cell_type": "code",
   "execution_count": 4,
   "id": "e6a2d7b7-edbb-4625-b6fb-207825015602",
   "metadata": {},
   "outputs": [
    {
     "name": "stdout",
     "output_type": "stream",
     "text": [
      "Enter radius of circle:  7\n"
     ]
    },
    {
     "name": "stdout",
     "output_type": "stream",
     "text": [
      "Area of circle with default radius is:  153.86\n",
      "Area of circle with default radius is:  78.5\n"
     ]
    }
   ],
   "source": [
    "def area_of_circle(radius=5):\n",
    "    area = 3.14 * radius * radius\n",
    "    return area\n",
    "\n",
    "radius = int(input(\"Enter radius of circle: \"))\n",
    "print(\"Area of circle with default radius is: \", area_of_circle(radius))\n",
    "print(\"Area of circle with default radius is: \", area_of_circle())\n",
    "\n"
   ]
  },
  {
   "cell_type": "markdown",
   "id": "9fcae4ff-1de0-4909-97e9-7093c8ea265d",
   "metadata": {},
   "source": [
    "# write a python function to find the factorial of a given number.\n"
   ]
  },
  {
   "cell_type": "code",
   "execution_count": 5,
   "id": "a3dcd6a0-438c-41b1-9e54-f545ab5ab3bf",
   "metadata": {},
   "outputs": [
    {
     "name": "stdout",
     "output_type": "stream",
     "text": [
      "Enter a number:  5\n"
     ]
    },
    {
     "name": "stdout",
     "output_type": "stream",
     "text": [
      "Factorial of a given number is:  120\n"
     ]
    }
   ],
   "source": [
    "def factorial(n):\n",
    "    fact = 1\n",
    "    for i in range(1, n+1):\n",
    "        fact = fact * i\n",
    "    return fact\n",
    "\n",
    "n = int(input(\"Enter a number: \"))\n",
    "print(\"Factorial of a given number is: \", factorial(n))"
   ]
  },
  {
   "cell_type": "markdown",
   "id": "c0e70b94-156e-4d20-9af8-4593171f03d3",
   "metadata": {},
   "source": [
    "# write a python function that accepts a string and count the number of uppercase and lowercase letters.\n"
   ]
  },
  {
   "cell_type": "code",
   "execution_count": 6,
   "id": "744215e0-c93a-433e-97ed-12ab993c7955",
   "metadata": {},
   "outputs": [
    {
     "name": "stdout",
     "output_type": "stream",
     "text": [
      "Enter a string:  Jay Bhensdadiya\n"
     ]
    },
    {
     "name": "stdout",
     "output_type": "stream",
     "text": [
      "Number of uppercase letters:  2\n",
      "Number of lowercase letters:  12\n"
     ]
    }
   ],
   "source": [
    "def count_upper_lower(s):\n",
    "    upper = 0\n",
    "    lower = 0\n",
    "    for i in s:\n",
    "        if i.isupper():\n",
    "            upper += 1\n",
    "        elif i.islower():\n",
    "            lower += 1\n",
    "    return upper, lower\n",
    "\n",
    "s = input(\"Enter a string: \")\n",
    "upper, lower = count_upper_lower(s)\n",
    "print(\"Number of uppercase letters: \", upper)\n",
    "print(\"Number of lowercase letters: \", lower)"
   ]
  },
  {
   "cell_type": "markdown",
   "id": "803b8202-eb43-4992-ba4c-ac1de65e133b",
   "metadata": {},
   "source": [
    "# write a python function that takes a list as an argument and returns a new list with unique elements of the first list.\n"
   ]
  },
  {
   "cell_type": "code",
   "execution_count": 8,
   "id": "6bd4cd9d-80b6-4282-97f9-1a7e3a1381de",
   "metadata": {},
   "outputs": [
    {
     "name": "stdout",
     "output_type": "stream",
     "text": [
      "Enter number of elements in list:  5\n",
      "Enter element:  1\n",
      "Enter element:  1\n",
      "Enter element:  1\n",
      "Enter element:  2\n",
      "Enter element:  2\n"
     ]
    },
    {
     "name": "stdout",
     "output_type": "stream",
     "text": [
      "List with unique elements:  [1, 2]\n"
     ]
    }
   ],
   "source": [
    "def unique_elements(lst):\n",
    "    lst2 = []\n",
    "    for i in lst:\n",
    "        if i not in lst2:\n",
    "            lst2.append(i)\n",
    "    return lst2\n",
    "\n",
    "n = int(input(\"Enter number of elements in list: \"))\n",
    "lst = []\n",
    "for i in range(n):\n",
    "    lst.append(int(input(\"Enter element: \")))\n",
    "\n",
    "print(\"List with unique elements: \", unique_elements(lst))\n"
   ]
  },
  {
   "cell_type": "markdown",
   "id": "86d64ab2-5ef8-40a9-90c2-51e5ebd5c69c",
   "metadata": {},
   "source": [
    "# write a python function that takes a list as an argument and returns a new list with elements that are divisible by 5.\n"
   ]
  },
  {
   "cell_type": "code",
   "execution_count": 10,
   "id": "5118c881-4a5a-4351-8232-18145d857b6e",
   "metadata": {},
   "outputs": [
    {
     "name": "stdout",
     "output_type": "stream",
     "text": [
      "Enter number of elements in list:  5\n",
      "Enter element:  2\n",
      "Enter element:  3\n",
      "Enter element:  5\n",
      "Enter element:  15\n",
      "Enter element:  25\n"
     ]
    },
    {
     "name": "stdout",
     "output_type": "stream",
     "text": [
      "List with elements divisible by 5:  [5, 15, 25]\n"
     ]
    }
   ],
   "source": [
    "def divisible_by_5(lst):\n",
    "    lst2 = []\n",
    "    for i in lst:\n",
    "        if i % 5 == 0:\n",
    "            lst2.append(i)\n",
    "    return lst2\n",
    "\n",
    "n = int(input(\"Enter number of elements in list: \"))\n",
    "lst = []\n",
    "for i in range(n):\n",
    "    lst.append(int(input(\"Enter element: \")))\n",
    "\n",
    "print(\"List with elements divisible by 5: \", divisible_by_5(lst))"
   ]
  },
  {
   "cell_type": "markdown",
   "id": "042d8e6f-4096-4606-af73-a890825bcc73",
   "metadata": {},
   "source": [
    "# write a python function that takes a list as an argument and returns a new list that contains prime numbers only.\n"
   ]
  },
  {
   "cell_type": "code",
   "execution_count": 11,
   "id": "28b36e4c-15e3-4512-96e0-b78b1cd74249",
   "metadata": {},
   "outputs": [
    {
     "name": "stdout",
     "output_type": "stream",
     "text": [
      "Enter number of elements in list:  5\n",
      "Enter element:  1\n",
      "Enter element:  2\n",
      "Enter element:  3\n",
      "Enter element:  4\n",
      "Enter element:  5\n"
     ]
    },
    {
     "name": "stdout",
     "output_type": "stream",
     "text": [
      "List with prime numbers:  [2, 3, 5]\n"
     ]
    }
   ],
   "source": [
    "def prime(lst):\n",
    "    lst2 = []\n",
    "    for i in lst:\n",
    "        if i > 1:\n",
    "            for j in range(2, i):\n",
    "                if i % j == 0:\n",
    "                    break\n",
    "            else:\n",
    "                lst2.append(i)\n",
    "    return lst2\n",
    "\n",
    "n = int(input(\"Enter number of elements in list: \"))\n",
    "lst = []\n",
    "for i in range(n):\n",
    "    lst.append(int(input(\"Enter element: \")))\n",
    "\n",
    "print(\"List with prime numbers: \", prime(lst))"
   ]
  },
  {
   "cell_type": "markdown",
   "id": "93489dd1-7922-4844-b70a-6618b6c3d0d5",
   "metadata": {},
   "source": [
    "# write a python function that takes a list as an argument and returns a new list that contains perfect numbers only.\n"
   ]
  },
  {
   "cell_type": "code",
   "execution_count": 13,
   "id": "12a09928-0d7f-4906-a876-eb4cc4b15b7a",
   "metadata": {},
   "outputs": [
    {
     "name": "stdout",
     "output_type": "stream",
     "text": [
      "Enter number of elements in list:  5\n",
      "Enter element:  3\n",
      "Enter element:  4\n",
      "Enter element:  6\n",
      "Enter element:  8\n",
      "Enter element:  7\n"
     ]
    },
    {
     "name": "stdout",
     "output_type": "stream",
     "text": [
      "List with perfect numbers:  [6]\n"
     ]
    }
   ],
   "source": [
    "def perfect(lst):\n",
    "    lst2 = []\n",
    "    for i in lst:\n",
    "        sum = 0\n",
    "        for j in range(1, i):\n",
    "            if i % j == 0:\n",
    "                sum += j\n",
    "        if sum == i:\n",
    "            lst2.append(i)\n",
    "    return lst2\n",
    "\n",
    "n = int(input(\"Enter number of elements in list: \"))\n",
    "lst = []\n",
    "for i in range(n):\n",
    "    lst.append(int(input(\"Enter element: \")))\n",
    "\n",
    "print(\"List with perfect numbers: \", perfect(lst))"
   ]
  },
  {
   "cell_type": "markdown",
   "id": "cca19ba1-9185-4609-9a9b-89be1d4e3246",
   "metadata": {},
   "source": [
    "# write a python function that takes two dictionaries  as input , concatenates these 2 dictionaries to one , and returns it.\n"
   ]
  },
  {
   "cell_type": "code",
   "execution_count": 14,
   "id": "6153662e-2cc1-4967-987a-e91448c4f69e",
   "metadata": {},
   "outputs": [
    {
     "name": "stdout",
     "output_type": "stream",
     "text": [
      "Enter number of elements in dictionary:  2\n",
      "Enter key:  jay\n",
      "Enter value:  121\n",
      "Enter key:  darshan\n",
      "Enter value:  122\n"
     ]
    },
    {
     "name": "stdout",
     "output_type": "stream",
     "text": [
      "First dictionary:  {'jay': '121', 'darshan': '122'}\n"
     ]
    },
    {
     "name": "stdout",
     "output_type": "stream",
     "text": [
      "Enter number of elements in dictionary:  2\n",
      "Enter key:  dhairy\n",
      "Enter value:  127\n",
      "Enter key:  yug\n",
      "Enter value:  126\n"
     ]
    },
    {
     "name": "stdout",
     "output_type": "stream",
     "text": [
      "Second dictionary:  {'dhairy': '127', 'yug': '126'}\n"
     ]
    },
    {
     "ename": "KeyError",
     "evalue": "'jay'",
     "output_type": "error",
     "traceback": [
      "\u001b[1;31m---------------------------------------------------------------------------\u001b[0m",
      "\u001b[1;31mKeyError\u001b[0m                                  Traceback (most recent call last)",
      "Cell \u001b[1;32mIn[14], line 22\u001b[0m\n\u001b[0;32m     19\u001b[0m     dic2[key] \u001b[38;5;241m=\u001b[39m value\n\u001b[0;32m     20\u001b[0m \u001b[38;5;28mprint\u001b[39m(\u001b[38;5;124m\"\u001b[39m\u001b[38;5;124mSecond dictionary: \u001b[39m\u001b[38;5;124m\"\u001b[39m, dic2)\n\u001b[1;32m---> 22\u001b[0m \u001b[38;5;28mprint\u001b[39m(\u001b[38;5;124m\"\u001b[39m\u001b[38;5;124mConcatenated dictionary: \u001b[39m\u001b[38;5;124m\"\u001b[39m, \u001b[43mconcatenate_dict\u001b[49m\u001b[43m(\u001b[49m\u001b[43mdic1\u001b[49m\u001b[43m,\u001b[49m\u001b[43m \u001b[49m\u001b[43mdic2\u001b[49m\u001b[43m)\u001b[49m)\n",
      "Cell \u001b[1;32mIn[14], line 3\u001b[0m, in \u001b[0;36mconcatenate_dict\u001b[1;34m(dic1, dic2)\u001b[0m\n\u001b[0;32m      1\u001b[0m \u001b[38;5;28;01mdef\u001b[39;00m \u001b[38;5;21mconcatenate_dict\u001b[39m(dic1, dic2):\n\u001b[0;32m      2\u001b[0m     \u001b[38;5;28;01mfor\u001b[39;00m i \u001b[38;5;129;01min\u001b[39;00m dic1:\n\u001b[1;32m----> 3\u001b[0m         dic1[i] \u001b[38;5;241m=\u001b[39m \u001b[43mdic2\u001b[49m\u001b[43m[\u001b[49m\u001b[43mi\u001b[49m\u001b[43m]\u001b[49m\n\u001b[0;32m      4\u001b[0m     \u001b[38;5;28;01mreturn\u001b[39;00m dic1\n",
      "\u001b[1;31mKeyError\u001b[0m: 'jay'"
     ]
    }
   ],
   "source": [
    "def concatenate_dict(dic1, dic2):\n",
    "    for i in dic1:\n",
    "        dic1[i] = dic2[i]\n",
    "    return dic1\n",
    "\n",
    "dic1 = {}\n",
    "dic2 = {}\n",
    "n = int(input(\"Enter number of elements in dictionary: \"))\n",
    "for i in range(n):\n",
    "    key = input(\"Enter key: \")\n",
    "    value = input(\"Enter value: \")\n",
    "    dic1[key] = value\n",
    "print(\"First dictionary: \", dic1)\n",
    "\n",
    "n2 = int(input(\"Enter number of elements in dictionary: \"))\n",
    "for i in range(n2):\n",
    "    key = input(\"Enter key: \")\n",
    "    value = input(\"Enter value: \")\n",
    "    dic2[key] = value\n",
    "print(\"Second dictionary: \", dic2)\n",
    "\n",
    "print(\"Concatenated dictionary: \", concatenate_dict(dic1, dic2))"
   ]
  },
  {
   "cell_type": "markdown",
   "id": "c7c9ba9a-36dc-4af4-b53a-15f2515e5ac2",
   "metadata": {},
   "source": [
    "# write  a python funtion that takes dictionary as input and return a new dictionary with sorted data items by key.\n"
   ]
  },
  {
   "cell_type": "code",
   "execution_count": 1,
   "id": "93f5371a-9bae-4433-a50a-04263657375f",
   "metadata": {},
   "outputs": [
    {
     "name": "stdout",
     "output_type": "stream",
     "text": [
      "Enter number of elements in dictionary:  2\n",
      "Enter key:  2\n",
      "Enter value:  jay\n",
      "Enter key:  1\n",
      "Enter value:  khush\n"
     ]
    },
    {
     "name": "stdout",
     "output_type": "stream",
     "text": [
      "Dictionary with sorted data items by key:  {'1': 'khush', '2': 'jay'}\n"
     ]
    }
   ],
   "source": [
    "def sort_dict(dic):\n",
    "    dic2={}\n",
    "    keys=list(dic.keys())\n",
    "    keys.sort()\n",
    "    for i in keys:\n",
    "        dic2[i]=dic[i]\n",
    "    return dic2\n",
    "\n",
    "dic = {}\n",
    "n = int(input(\"Enter number of elements in dictionary: \"))\n",
    "for i in range(n):\n",
    "    key = input(\"Enter key: \")\n",
    "    value = input(\"Enter value: \")\n",
    "    dic[key] = value\n",
    "\n",
    "print(\"Dictionary with sorted data items by key: \", sort_dict(dic))"
   ]
  }
 ],
 "metadata": {
  "kernelspec": {
   "display_name": "Python 3 (ipykernel)",
   "language": "python",
   "name": "python3"
  },
  "language_info": {
   "codemirror_mode": {
    "name": "ipython",
    "version": 3
   },
   "file_extension": ".py",
   "mimetype": "text/x-python",
   "name": "python",
   "nbconvert_exporter": "python",
   "pygments_lexer": "ipython3",
   "version": "3.13.0"
  }
 },
 "nbformat": 4,
 "nbformat_minor": 5
}

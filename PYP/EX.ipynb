{
 "cells": [
  {
   "cell_type": "markdown",
   "id": "1850ed1e-70be-41d6-aa94-6238e5cd88ab",
   "metadata": {},
   "source": [
    "# sliceing"
   ]
  },
  {
   "cell_type": "code",
   "execution_count": 11,
   "id": "388df552-9f2a-4c85-8ff5-088ae928577f",
   "metadata": {},
   "outputs": [
    {
     "name": "stdout",
     "output_type": "stream",
     "text": [
      "e pytoh programming\n",
      "like p\n",
      "lk \n",
      "Ilk \n",
      "I lik\n",
      "gnimmargorp hotyp ekil I\n",
      "I like pytoh programming\n",
      "I li\n",
      "nimmar\n",
      "nma\n"
     ]
    }
   ],
   "source": [
    "str = 'I like pytoh programming'\n",
    "print(str[5:])\n",
    "print(str[2:8])\n",
    "print(str[2:8:2])\n",
    "print(str[:8:2])\n",
    "print(str[:5])\n",
    "print(str[::-1])\n",
    "print(str[:])\n",
    "print(str[slice(4)])\n",
    "print(str[slice(-2,-8,-1)])\n",
    "print(str[slice(-2,-8,-2)])"
   ]
  },
  {
   "cell_type": "markdown",
   "id": "b57765c6-3802-4d79-a600-308346fe7e2e",
   "metadata": {},
   "source": [
    "# "
   ]
  }
 ],
 "metadata": {
  "kernelspec": {
   "display_name": "Python 3 (ipykernel)",
   "language": "python",
   "name": "python3"
  },
  "language_info": {
   "codemirror_mode": {
    "name": "ipython",
    "version": 3
   },
   "file_extension": ".py",
   "mimetype": "text/x-python",
   "name": "python",
   "nbconvert_exporter": "python",
   "pygments_lexer": "ipython3",
   "version": "3.13.0"
  }
 },
 "nbformat": 4,
 "nbformat_minor": 5
}
